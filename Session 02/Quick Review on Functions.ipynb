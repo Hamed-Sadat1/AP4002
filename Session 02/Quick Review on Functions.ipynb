{
 "cells": [
  {
   "cell_type": "markdown",
   "metadata": {
    "id": "xL86nquFmcBb"
   },
   "source": [
    "# Programming Styles:\n",
    "+ Imperative Programming\n",
    "+ Functional Programming\n",
    "+ Object Oriented Programming"
   ]
  },
  {
   "cell_type": "markdown",
   "metadata": {
    "id": "tMhDj1ZSfKJq"
   },
   "source": [
    "# Functions\n",
    "**Reusing Code** <br>\n",
    "Don't Repeat Yourself, or DRY, principle"
   ]
  },
  {
   "cell_type": "markdown",
   "metadata": {
    "id": "2oj8H8msG8h0"
   },
   "source": [
    "## Built-in Functions:\n",
    "```\n",
    "print(\"Hello world!\")\n",
    "range(2, 20)\n",
    "str(12)\n",
    "range(10, 20, 3)\n",
    "```\n",
    "\n"
   ]
  },
  {
   "cell_type": "markdown",
   "metadata": {
    "id": "zk_JE9cnfKJs"
   },
   "source": [
    "## Introduction"
   ]
  },
  {
   "cell_type": "markdown",
   "metadata": {
    "id": "b9MTc-cHfKJt"
   },
   "source": [
    "1. No input | No output\n",
    "2. No input | output\n",
    "3. input(s) | No output\n",
    "4. input(s) | output"
   ]
  },
  {
   "cell_type": "code",
   "execution_count": 1,
   "metadata": {
    "id": "YN4l4sAtfKJt",
    "outputId": "544468b0-3273-45d7-da25-e56bdc7260fc"
   },
   "outputs": [
    {
     "name": "stdout",
     "output_type": "stream",
     "text": [
      "hello world\n"
     ]
    }
   ],
   "source": [
    "# Explain: no input no output\n",
    "def my_func(): # no argument\n",
    "    print('hello world') # no return\n",
    "    return None\n",
    "\n",
    "my_func()"
   ]
  },
  {
   "cell_type": "code",
   "execution_count": 2,
   "metadata": {},
   "outputs": [
    {
     "name": "stdout",
     "output_type": "stream",
     "text": [
      "hello world\n",
      "None\n"
     ]
    }
   ],
   "source": [
    "x = my_func()\n",
    "print(x)"
   ]
  },
  {
   "cell_type": "code",
   "execution_count": 3,
   "metadata": {
    "id": "xPCNQ5dffKJu",
    "outputId": "e5681e1f-07b4-469b-9fc0-5104b0dd740a"
   },
   "outputs": [
    {
     "name": "stdout",
     "output_type": "stream",
     "text": [
      "hello world\n"
     ]
    }
   ],
   "source": [
    "# Explain: no input and has output\n",
    "def my_func(): # no argument\n",
    "    return 'hello world' # return\n",
    "\n",
    "a = my_func()\n",
    "print(a)"
   ]
  },
  {
   "cell_type": "code",
   "execution_count": 4,
   "metadata": {
    "id": "b_YhgarwfKJv",
    "outputId": "27d78f35-2f23-4a31-bf26-1109fef62490"
   },
   "outputs": [
    {
     "name": "stdout",
     "output_type": "stream",
     "text": [
      "hello world\n"
     ]
    }
   ],
   "source": [
    "# Explain: has input and has output\n",
    "def my_func(st): \n",
    "    return st\n",
    "\n",
    "a = my_func('hello world')\n",
    "print(a)"
   ]
  },
  {
   "cell_type": "code",
   "execution_count": 5,
   "metadata": {
    "id": "T6wncelVfKJv",
    "outputId": "804bda8d-93ec-4b67-8309-e80d8ff41c70"
   },
   "outputs": [
    {
     "name": "stdout",
     "output_type": "stream",
     "text": [
      "hello world\n"
     ]
    }
   ],
   "source": [
    "# Explain: has input and no output\n",
    "def my_func(st):\n",
    "    print(st)\n",
    "    #return None\n",
    "\n",
    "my_func('hello world')"
   ]
  },
  {
   "cell_type": "markdown",
   "metadata": {
    "id": "IgfCDHrffKJw"
   },
   "source": [
    "## Function Docstring"
   ]
  },
  {
   "cell_type": "markdown",
   "metadata": {
    "id": "utvA8H4pfKJw"
   },
   "source": [
    "[PEP 257 -- Docstring Conventions](https://www.python.org/dev/peps/pep-0257/)\n",
    "\n",
    "3 quotations after function defenition\n",
    "[example|best practice](https://networkx.org/documentation/stable/_modules/networkx/generators/random_graphs.html#powerlaw_cluster_graph)"
   ]
  },
  {
   "cell_type": "code",
   "execution_count": 6,
   "metadata": {
    "id": "CRsTMpx2fKJx",
    "outputId": "809a7dbe-3c6d-4c1e-a01b-4372c4ceee09"
   },
   "outputs": [
    {
     "name": "stdout",
     "output_type": "stream",
     "text": [
      "hello world\n",
      "\n",
      "    This is a summary line for myfunc\n",
      "    \n",
      "    Args:\n",
      "        no Args\n",
      "    Return:\n",
      "        no Return\n",
      "    \n"
     ]
    }
   ],
   "source": [
    "def my_func(): \n",
    "    '''\n",
    "    This is a summary line for myfunc\n",
    "    \n",
    "    Args:\n",
    "        no Args\n",
    "    Return:\n",
    "        no Return\n",
    "    '''\n",
    "    print('hello world') # no return\n",
    "\n",
    "my_func()\n",
    "\n",
    "print(my_func.__doc__)"
   ]
  },
  {
   "cell_type": "code",
   "execution_count": 8,
   "metadata": {
    "colab": {
     "base_uri": "https://localhost:8080/"
    },
    "id": "ZpDrqUurf3HD",
    "outputId": "d59abd0f-4017-4ef4-9ed1-c6654fad48ab"
   },
   "outputs": [
    {
     "name": "stdout",
     "output_type": "stream",
     "text": [
      "print(value, ..., sep=' ', end='\\n', file=sys.stdout, flush=False)\n",
      "\n",
      "Prints the values to a stream, or to sys.stdout by default.\n",
      "Optional keyword arguments:\n",
      "file:  a file-like object (stream); defaults to the current sys.stdout.\n",
      "sep:   string inserted between values, default a space.\n",
      "end:   string appended after the last value, default a newline.\n",
      "flush: whether to forcibly flush the stream.\n"
     ]
    }
   ],
   "source": [
    "print(print.__doc__)"
   ]
  },
  {
   "cell_type": "markdown",
   "metadata": {
    "id": "FK2Xj_m1fKJy"
   },
   "source": [
    "## Dynamic Typing"
   ]
  },
  {
   "cell_type": "code",
   "execution_count": 9,
   "metadata": {
    "id": "GIPauUR2fKJx",
    "outputId": "8821c768-6ad2-41cc-bbb2-4a71f206e375"
   },
   "outputs": [
    {
     "name": "stdout",
     "output_type": "stream",
     "text": [
      "hello world\n",
      "3\n"
     ]
    }
   ],
   "source": [
    "# Explain: has input and has output\n",
    "def my_func(st): \n",
    "    return st\n",
    "\n",
    "a = my_func('hello world')\n",
    "print(a)\n",
    "\n",
    "b = my_func(3)\n",
    "print(b) # dynamic variable type"
   ]
  },
  {
   "cell_type": "code",
   "execution_count": 20,
   "metadata": {
    "id": "7KrsuRJxfKJy",
    "outputId": "3f82afd7-ccb5-40f1-efa9-b55cf331e789"
   },
   "outputs": [
    {
     "name": "stdout",
     "output_type": "stream",
     "text": [
      "3\n",
      "0.4\n",
      "1.2\n",
      "helloworld\n",
      "AliShokoohi\n"
     ]
    }
   ],
   "source": [
    "# Explain: dynamic typing\n",
    "def my_func(a, b):\n",
    "    return a + b\n",
    "\n",
    "b = my_func(1, 2)\n",
    "print(b) \n",
    "\n",
    "c = my_func(0.2, 0.2)\n",
    "print(c) \n",
    "\n",
    "d = my_func(1, 0.2)\n",
    "print(d) \n",
    "\n",
    "a = my_func('hello', 'world')\n",
    "print(a)\n",
    "\n",
    "print(my_func(n1, n2))\n",
    "\n",
    "# pros & cons : no need to define many functions | the problem of incompatible types"
   ]
  },
  {
   "cell_type": "code",
   "execution_count": 15,
   "metadata": {},
   "outputs": [],
   "source": [
    "class Name:\n",
    "    def __init__(self, name):\n",
    "        self.name = name\n",
    "        \n",
    "    def __add__(self, other):\n",
    "        return Name(self.name + other.name)\n",
    "    \n",
    "    def __str__(self):\n",
    "        return self.name"
   ]
  },
  {
   "cell_type": "code",
   "execution_count": 16,
   "metadata": {},
   "outputs": [],
   "source": [
    "n1 = Name('Ali')\n",
    "n2 = Name('Shokoohi')\n",
    "n3 = n1 + n2"
   ]
  },
  {
   "cell_type": "code",
   "execution_count": 17,
   "metadata": {},
   "outputs": [
    {
     "name": "stdout",
     "output_type": "stream",
     "text": [
      "AliShokoohi\n"
     ]
    }
   ],
   "source": [
    "print(n1+n2)"
   ]
  },
  {
   "cell_type": "code",
   "execution_count": 18,
   "metadata": {},
   "outputs": [
    {
     "data": {
      "text/plain": [
       "__main__.Name"
      ]
     },
     "execution_count": 18,
     "metadata": {},
     "output_type": "execute_result"
    }
   ],
   "source": [
    "type(n1+n2)"
   ]
  },
  {
   "cell_type": "code",
   "execution_count": 21,
   "metadata": {
    "id": "N5p-ZyhQfKJy",
    "outputId": "33e321ab-f4be-4adc-a6a5-77fe57922c8e"
   },
   "outputs": [
    {
     "name": "stdout",
     "output_type": "stream",
     "text": [
      "0.5\n",
      "1.0\n",
      "5.0\n"
     ]
    },
    {
     "ename": "TypeError",
     "evalue": "unsupported operand type(s) for /: 'str' and 'str'",
     "output_type": "error",
     "traceback": [
      "\u001b[1;31m---------------------------------------------------------------------------\u001b[0m",
      "\u001b[1;31mTypeError\u001b[0m                                 Traceback (most recent call last)",
      "\u001b[1;32m<ipython-input-21-e6ca06d7a1f0>\u001b[0m in \u001b[0;36m<module>\u001b[1;34m\u001b[0m\n\u001b[0;32m     12\u001b[0m \u001b[0mprint\u001b[0m\u001b[1;33m(\u001b[0m\u001b[0md\u001b[0m\u001b[1;33m)\u001b[0m\u001b[1;33m\u001b[0m\u001b[1;33m\u001b[0m\u001b[0m\n\u001b[0;32m     13\u001b[0m \u001b[1;33m\u001b[0m\u001b[0m\n\u001b[1;32m---> 14\u001b[1;33m \u001b[0ma\u001b[0m \u001b[1;33m=\u001b[0m \u001b[0mmy_func\u001b[0m\u001b[1;33m(\u001b[0m\u001b[1;34m'hello'\u001b[0m\u001b[1;33m,\u001b[0m \u001b[1;34m'world'\u001b[0m\u001b[1;33m)\u001b[0m\u001b[1;33m\u001b[0m\u001b[1;33m\u001b[0m\u001b[0m\n\u001b[0m\u001b[0;32m     15\u001b[0m \u001b[0mprint\u001b[0m\u001b[1;33m(\u001b[0m\u001b[0ma\u001b[0m\u001b[1;33m)\u001b[0m\u001b[1;33m\u001b[0m\u001b[1;33m\u001b[0m\u001b[0m\n",
      "\u001b[1;32m<ipython-input-21-e6ca06d7a1f0>\u001b[0m in \u001b[0;36mmy_func\u001b[1;34m(a, b)\u001b[0m\n\u001b[0;32m      1\u001b[0m \u001b[1;31m# Explain: dynamic typing\u001b[0m\u001b[1;33m\u001b[0m\u001b[1;33m\u001b[0m\u001b[1;33m\u001b[0m\u001b[0m\n\u001b[0;32m      2\u001b[0m \u001b[1;32mdef\u001b[0m \u001b[0mmy_func\u001b[0m\u001b[1;33m(\u001b[0m\u001b[0ma\u001b[0m\u001b[1;33m,\u001b[0m \u001b[0mb\u001b[0m\u001b[1;33m)\u001b[0m\u001b[1;33m:\u001b[0m\u001b[1;33m\u001b[0m\u001b[1;33m\u001b[0m\u001b[0m\n\u001b[1;32m----> 3\u001b[1;33m     \u001b[1;32mreturn\u001b[0m \u001b[0ma\u001b[0m \u001b[1;33m/\u001b[0m \u001b[0mb\u001b[0m\u001b[1;33m\u001b[0m\u001b[1;33m\u001b[0m\u001b[0m\n\u001b[0m\u001b[0;32m      4\u001b[0m \u001b[1;33m\u001b[0m\u001b[0m\n\u001b[0;32m      5\u001b[0m \u001b[0mb\u001b[0m \u001b[1;33m=\u001b[0m \u001b[0mmy_func\u001b[0m\u001b[1;33m(\u001b[0m\u001b[1;36m1\u001b[0m\u001b[1;33m,\u001b[0m \u001b[1;36m2\u001b[0m\u001b[1;33m)\u001b[0m\u001b[1;33m\u001b[0m\u001b[1;33m\u001b[0m\u001b[0m\n",
      "\u001b[1;31mTypeError\u001b[0m: unsupported operand type(s) for /: 'str' and 'str'"
     ]
    }
   ],
   "source": [
    "# Explain: dynamic typing\n",
    "def my_func(a, b):\n",
    "    return a / b\n",
    "\n",
    "b = my_func(1, 2)\n",
    "print(b) \n",
    "\n",
    "c = my_func(0.2, 0.2)\n",
    "print(c) \n",
    "\n",
    "d = my_func(1, 0.2)\n",
    "print(d) \n",
    "\n",
    "a = my_func('hello', 'world')\n",
    "print(a)"
   ]
  },
  {
   "cell_type": "markdown",
   "metadata": {
    "id": "c2wqMvt0fKJz"
   },
   "source": [
    "[Function Annotations: hint for types](https://www.python.org/dev/peps/pep-3107/)"
   ]
  },
  {
   "cell_type": "code",
   "execution_count": 22,
   "metadata": {
    "id": "GVThnuzIfKJz",
    "outputId": "349771b1-6a0b-4f56-bcf1-8b293f381938"
   },
   "outputs": [
    {
     "name": "stdout",
     "output_type": "stream",
     "text": [
      "0.5\n",
      "1.0\n",
      "5.0\n"
     ]
    },
    {
     "ename": "TypeError",
     "evalue": "unsupported operand type(s) for /: 'str' and 'str'",
     "output_type": "error",
     "traceback": [
      "\u001b[1;31m---------------------------------------------------------------------------\u001b[0m",
      "\u001b[1;31mTypeError\u001b[0m                                 Traceback (most recent call last)",
      "\u001b[1;32m<ipython-input-22-f3fce78c2411>\u001b[0m in \u001b[0;36m<module>\u001b[1;34m\u001b[0m\n\u001b[0;32m     12\u001b[0m \u001b[0mprint\u001b[0m\u001b[1;33m(\u001b[0m\u001b[0md\u001b[0m\u001b[1;33m)\u001b[0m\u001b[1;33m\u001b[0m\u001b[1;33m\u001b[0m\u001b[0m\n\u001b[0;32m     13\u001b[0m \u001b[1;33m\u001b[0m\u001b[0m\n\u001b[1;32m---> 14\u001b[1;33m \u001b[0ma\u001b[0m \u001b[1;33m=\u001b[0m \u001b[0mmy_func\u001b[0m\u001b[1;33m(\u001b[0m\u001b[1;34m'hello'\u001b[0m\u001b[1;33m,\u001b[0m \u001b[1;34m'world'\u001b[0m\u001b[1;33m)\u001b[0m\u001b[1;33m\u001b[0m\u001b[1;33m\u001b[0m\u001b[0m\n\u001b[0m\u001b[0;32m     15\u001b[0m \u001b[0mprint\u001b[0m\u001b[1;33m(\u001b[0m\u001b[0ma\u001b[0m\u001b[1;33m)\u001b[0m\u001b[1;33m\u001b[0m\u001b[1;33m\u001b[0m\u001b[0m\n\u001b[0;32m     16\u001b[0m \u001b[1;33m\u001b[0m\u001b[0m\n",
      "\u001b[1;32m<ipython-input-22-f3fce78c2411>\u001b[0m in \u001b[0;36mmy_func\u001b[1;34m(a, b)\u001b[0m\n\u001b[0;32m      1\u001b[0m \u001b[1;31m# Explain: dynamic typing\u001b[0m\u001b[1;33m\u001b[0m\u001b[1;33m\u001b[0m\u001b[1;33m\u001b[0m\u001b[0m\n\u001b[0;32m      2\u001b[0m \u001b[1;32mdef\u001b[0m \u001b[0mmy_func\u001b[0m\u001b[1;33m(\u001b[0m\u001b[0ma\u001b[0m\u001b[1;33m:\u001b[0m \u001b[0mint\u001b[0m\u001b[1;33m,\u001b[0m \u001b[0mb\u001b[0m\u001b[1;33m:\u001b[0m \u001b[0mint\u001b[0m\u001b[1;33m)\u001b[0m \u001b[1;33m->\u001b[0m \u001b[0mfloat\u001b[0m\u001b[1;33m:\u001b[0m\u001b[1;33m\u001b[0m\u001b[1;33m\u001b[0m\u001b[0m\n\u001b[1;32m----> 3\u001b[1;33m     \u001b[1;32mreturn\u001b[0m \u001b[0ma\u001b[0m \u001b[1;33m/\u001b[0m \u001b[0mb\u001b[0m\u001b[1;33m\u001b[0m\u001b[1;33m\u001b[0m\u001b[0m\n\u001b[0m\u001b[0;32m      4\u001b[0m \u001b[1;33m\u001b[0m\u001b[0m\n\u001b[0;32m      5\u001b[0m \u001b[0mb\u001b[0m \u001b[1;33m=\u001b[0m \u001b[0mmy_func\u001b[0m\u001b[1;33m(\u001b[0m\u001b[1;36m1\u001b[0m\u001b[1;33m,\u001b[0m \u001b[1;36m2\u001b[0m\u001b[1;33m)\u001b[0m\u001b[1;33m\u001b[0m\u001b[1;33m\u001b[0m\u001b[0m\n",
      "\u001b[1;31mTypeError\u001b[0m: unsupported operand type(s) for /: 'str' and 'str'"
     ]
    }
   ],
   "source": [
    "# Explain: dynamic typing\n",
    "def my_func(a: int, b: int) -> float:\n",
    "    return a / b\n",
    "\n",
    "b = my_func(1, 2)\n",
    "print(b) \n",
    "\n",
    "c = my_func(0.2, 0.2)\n",
    "print(c) \n",
    "\n",
    "d = my_func(1, 0.2)\n",
    "print(d) \n",
    "\n",
    "a = my_func('hello', 'world')\n",
    "print(a)\n",
    "\n",
    "# we have still error | pycharms hints about peps\n",
    "# let's check in pycharm"
   ]
  },
  {
   "cell_type": "markdown",
   "metadata": {
    "id": "hGyhIdbvfKJz"
   },
   "source": [
    "## Return Values \n",
    "+ Nothing!\n",
    "+ pass \n",
    "+ yield \n",
    "+ return \n",
    "+ multiple output"
   ]
  },
  {
   "cell_type": "code",
   "execution_count": 23,
   "metadata": {
    "id": "eM3pnUMZfKJz",
    "outputId": "b3142bfc-2af8-4de6-c05d-0a22363ae0cf"
   },
   "outputs": [
    {
     "ename": "NameError",
     "evalue": "name 'add_three_nums' is not defined",
     "output_type": "error",
     "traceback": [
      "\u001b[1;31m---------------------------------------------------------------------------\u001b[0m",
      "\u001b[1;31mNameError\u001b[0m                                 Traceback (most recent call last)",
      "\u001b[1;32m<ipython-input-23-ce7491be2cfd>\u001b[0m in \u001b[0;36m<module>\u001b[1;34m\u001b[0m\n\u001b[1;32m----> 1\u001b[1;33m \u001b[0mprint\u001b[0m\u001b[1;33m(\u001b[0m\u001b[0madd_three_nums\u001b[0m\u001b[1;33m(\u001b[0m\u001b[1;36m10\u001b[0m\u001b[1;33m)\u001b[0m\u001b[1;33m)\u001b[0m\u001b[1;33m\u001b[0m\u001b[1;33m\u001b[0m\u001b[0m\n\u001b[0m",
      "\u001b[1;31mNameError\u001b[0m: name 'add_three_nums' is not defined"
     ]
    }
   ],
   "source": [
    "print(add_three_nums(10))"
   ]
  },
  {
   "cell_type": "code",
   "execution_count": 24,
   "metadata": {
    "id": "La-WuBDQfKJ0",
    "outputId": "1a0a1db6-1cc9-4df9-f2e8-1e8c5184fbc2"
   },
   "outputs": [
    {
     "name": "stdout",
     "output_type": "stream",
     "text": [
      "13\n"
     ]
    }
   ],
   "source": [
    "def add_three_nums(a, b = 2, c = 1):\n",
    "    return a + b + c\n",
    "s = add_three_nums(10)\n",
    "print(s)"
   ]
  },
  {
   "cell_type": "code",
   "execution_count": 25,
   "metadata": {
    "id": "5VJrOmPufKJ0",
    "outputId": "29f76c92-cfb7-41ba-e6d7-11cf60b74ae4"
   },
   "outputs": [
    {
     "name": "stdout",
     "output_type": "stream",
     "text": [
      "None\n"
     ]
    }
   ],
   "source": [
    "def add_three_nums(a, b = 2, c = 1):\n",
    "    return \n",
    "s = add_three_nums(10)\n",
    "print(s)"
   ]
  },
  {
   "cell_type": "code",
   "execution_count": 26,
   "metadata": {
    "id": "zqBGz7IqfKJ0",
    "outputId": "69d6c2f5-e386-4d99-96fd-01397c538b6f"
   },
   "outputs": [
    {
     "name": "stdout",
     "output_type": "stream",
     "text": [
      "None\n"
     ]
    }
   ],
   "source": [
    "def add_three_nums(a, b = 2, c = 1):\n",
    "    pass \n",
    "s = add_three_nums(10)\n",
    "print(s)"
   ]
  },
  {
   "cell_type": "code",
   "execution_count": null,
   "metadata": {
    "id": "8hKT_vKHfKJ1"
   },
   "outputs": [],
   "source": [
    "# Are pass and return the same?"
   ]
  },
  {
   "cell_type": "code",
   "execution_count": 28,
   "metadata": {
    "id": "fmsbe9dFfKJ1"
   },
   "outputs": [],
   "source": [
    "# Explain pass and return (cont.)\n",
    "def test_p(a):\n",
    "    print('this is test_p')\n",
    "    if a == 1:\n",
    "        print(a)\n",
    "        pass\n",
    "    if a == 1:\n",
    "        print(a, 'again')\n",
    "        pass"
   ]
  },
  {
   "cell_type": "code",
   "execution_count": 30,
   "metadata": {
    "id": "yl2_DMfNfKJ1"
   },
   "outputs": [],
   "source": [
    "def test_r(a):\n",
    "    print('this is test_r')\n",
    "    if a == 1:\n",
    "        print(a)\n",
    "        return # exits\n",
    "    if a == 1:\n",
    "        print(a, 'again')\n",
    "        return "
   ]
  },
  {
   "cell_type": "code",
   "execution_count": 31,
   "metadata": {
    "id": "1cy8RbO0fKJ1",
    "outputId": "2fd2cabf-d35e-49f6-ad30-49db3c3ea5c3"
   },
   "outputs": [
    {
     "name": "stdout",
     "output_type": "stream",
     "text": [
      "this is test_p\n",
      "1\n",
      "1 again\n",
      "this is test_r\n",
      "1\n"
     ]
    }
   ],
   "source": [
    "test_p(1)\n",
    "test_r(1)"
   ]
  },
  {
   "cell_type": "code",
   "execution_count": 32,
   "metadata": {
    "id": "lf_l9myQfKJ1",
    "outputId": "08b139e0-53bf-40bb-c2dd-22ca6ab158a4"
   },
   "outputs": [
    {
     "name": "stdout",
     "output_type": "stream",
     "text": [
      "1\n",
      "2\n",
      "3\n"
     ]
    }
   ],
   "source": [
    "# Explain yield\n",
    "def generator():\n",
    "    yield 1\n",
    "    yield 2\n",
    "    yield 3\n",
    "    \n",
    "for val in generator(): # iterate | pause - resume\n",
    "    print(val)"
   ]
  },
  {
   "cell_type": "code",
   "execution_count": 33,
   "metadata": {
    "colab": {
     "base_uri": "https://localhost:8080/"
    },
    "id": "FxCik6ypfKJ2",
    "outputId": "67a3fa9e-7241-470d-cfe4-49adf9b24b3d"
   },
   "outputs": [
    {
     "name": "stdout",
     "output_type": "stream",
     "text": [
      "1\n",
      "4\n",
      "9\n",
      "16\n",
      "25\n",
      "36\n",
      "49\n",
      "64\n",
      "81\n",
      "100\n"
     ]
    }
   ],
   "source": [
    "# Explain yield (cont..)\n",
    "# creating infinite sequence\n",
    "def square_nums(): # it is a generator\n",
    "    a = 1\n",
    "    while True:\n",
    "        yield a * a # life of the function does not end, it pauses then resumes\n",
    "        a += 1\n",
    "        \n",
    "for number in square_nums():\n",
    "    if number > 100:\n",
    "        break\n",
    "    print(number)"
   ]
  },
  {
   "cell_type": "code",
   "execution_count": null,
   "metadata": {
    "colab": {
     "base_uri": "https://localhost:8080/"
    },
    "id": "hOjQUW_MfKJ2",
    "outputId": "f5eeff07-5761-4477-db42-2d601213aa45"
   },
   "outputs": [],
   "source": [
    "gen = square_nums()\n",
    "print(next(gen))\n",
    "print(next(gen))"
   ]
  },
  {
   "cell_type": "code",
   "execution_count": 34,
   "metadata": {
    "id": "BgNI07UdfKJ2",
    "outputId": "cad04a9b-80e5-40a0-f9da-d48cac23d74c"
   },
   "outputs": [
    {
     "name": "stdout",
     "output_type": "stream",
     "text": [
      "('Hello world', 10)\n",
      "['Hello world', 10]\n",
      "{'str': 'Hello world', 'x': 10}\n"
     ]
    }
   ],
   "source": [
    "# Explain Return multivalues\n",
    "\n",
    "# 1.using Tuple\n",
    "def fun():\n",
    "    string = 'Hello world'\n",
    "    x = 10\n",
    "    return string, x\n",
    "\n",
    "print(fun())\n",
    "\n",
    "\n",
    "# 2.using List\n",
    "def fun():\n",
    "    string = 'Hello world'\n",
    "    x = 10\n",
    "    return [string, x]\n",
    "\n",
    "print(fun())\n",
    "\n",
    "# 2.using Dictionary\n",
    "def fun():\n",
    "    string = 'Hello world'\n",
    "    x = 10\n",
    "    d = dict()\n",
    "    return {'str': string, 'x': x}\n",
    "\n",
    "print(fun())"
   ]
  }
 ],
 "metadata": {
  "colab": {
   "name": "Functional Programming.ipynb",
   "provenance": [],
   "toc_visible": true
  },
  "kernelspec": {
   "display_name": "Python 3",
   "language": "python",
   "name": "python3"
  },
  "language_info": {
   "codemirror_mode": {
    "name": "ipython",
    "version": 3
   },
   "file_extension": ".py",
   "mimetype": "text/x-python",
   "name": "python",
   "nbconvert_exporter": "python",
   "pygments_lexer": "ipython3",
   "version": "3.8.5"
  }
 },
 "nbformat": 4,
 "nbformat_minor": 4
}
