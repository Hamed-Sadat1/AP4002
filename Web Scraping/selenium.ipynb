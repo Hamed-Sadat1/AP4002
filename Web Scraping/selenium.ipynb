{
 "cells": [
  {
   "cell_type": "markdown",
   "metadata": {},
   "source": [
    "# Selenium"
   ]
  },
  {
   "cell_type": "code",
   "execution_count": 1,
   "metadata": {},
   "outputs": [
    {
     "name": "stderr",
     "output_type": "stream",
     "text": [
      "<ipython-input-1-f2bc92da8f45>:5: DeprecationWarning: executable_path has been deprecated, please pass in a Service object\n",
      "  driver = webdriver.Chrome('chromedriver.exe')  # we download it before\n"
     ]
    }
   ],
   "source": [
    "# Web driver is a part of selenium. Web driver is basically the core of selenium.\n",
    "from selenium import webdriver\n",
    "\n",
    "# access that Web driver using Web driver chrome\n",
    "driver = webdriver.Chrome('chromedriver.exe')  # we download it before\n",
    "\n"
   ]
  },
  {
   "cell_type": "code",
   "execution_count": null,
   "metadata": {},
   "outputs": [],
   "source": [
    "# A new browser will pop up and that will be our controlled browser.\n",
    "driver.get('https://www.google.com/')"
   ]
  },
  {
   "cell_type": "code",
   "execution_count": null,
   "metadata": {},
   "outputs": [],
   "source": [
    "#inputting text into a box\n",
    "box = driver.find_element_by_xpath('/html/body/div[1]/div[3]/form/div[1]/div[1]/div[1]/div/div[2]/input')\n",
    "box.send_keys('web scraping')"
   ]
  },
  {
   "cell_type": "code",
   "execution_count": null,
   "metadata": {},
   "outputs": [],
   "source": [
    "# pressing a key\n",
    "from selenium.webdriver.common.keys import Keys\n",
    "box.send_keys(Keys.ENTER)"
   ]
  },
  {
   "cell_type": "code",
   "execution_count": null,
   "metadata": {},
   "outputs": [],
   "source": [
    "#clicking on a button\n",
    "driver.get('https://www.google.com/')\n",
    "\n",
    "box = driver.find_element_by_xpath('/html/body/div[1]/div[3]/form/div[1]/div[1]/div[1]/div/div[2]/input')\n",
    "box.send_keys('web scraping')\n",
    "\n",
    "button = driver.find_element_by_xpath('/html/body/div[1]/div[3]/form/div[1]/div[1]/div[3]/center/input[1]')\n",
    "button.click()\n",
    "\n"
   ]
  },
  {
   "cell_type": "code",
   "execution_count": null,
   "metadata": {},
   "outputs": [],
   "source": [
    "# click on a link\n",
    "driver.find_element_by_xpath('//*[@id=\"rso\"]/div[1]/div/div/div/div[1]/a/h3').click()"
   ]
  },
  {
   "cell_type": "code",
   "execution_count": null,
   "metadata": {},
   "outputs": [],
   "source": [
    "# click on another link\n",
    "driver.find_element_by_id('mw-content-text').click()"
   ]
  },
  {
   "cell_type": "code",
   "execution_count": null,
   "metadata": {},
   "outputs": [],
   "source": [
    "# get current url\n",
    "print(driver.current_url)"
   ]
  },
  {
   "cell_type": "code",
   "execution_count": null,
   "metadata": {},
   "outputs": [],
   "source": [
    "#taking a screenshot\n",
    "driver.save_screenshot('screenshot.jpg')"
   ]
  },
  {
   "cell_type": "code",
   "execution_count": null,
   "metadata": {},
   "outputs": [],
   "source": [
    "driver.find_element_by_xpath('//*[@id=\"mw-content-text\"]/div[1]/div[3]/div').screenshot('screenshot2.jpg')"
   ]
  },
  {
   "cell_type": "code",
   "execution_count": 5,
   "metadata": {},
   "outputs": [
    {
     "name": "stderr",
     "output_type": "stream",
     "text": [
      "<ipython-input-5-475bb49c3b28>:7: DeprecationWarning: find_element_by_xpath is deprecated. Please use find_element(by=By.XPATH, value=xpath) instead\n",
      "  box = driver.find_element_by_xpath('/html/body/div[1]/div[3]/form/div[1]/div[1]/div[1]/div/div[2]/input')\n",
      "<ipython-input-5-475bb49c3b28>:13: DeprecationWarning: find_element_by_xpath is deprecated. Please use find_element(by=By.XPATH, value=xpath) instead\n",
      "  driver.find_element_by_xpath('//*[@id=\"hdtb-msb\"]/div[1]/div/div[2]/a').click()\n"
     ]
    }
   ],
   "source": [
    "from selenium.webdriver.common.keys import Keys\n",
    "\n",
    "# put everything  together\n",
    "driver.get('https://www.google.com/')\n",
    "\n",
    "#inputting text into a box\n",
    "box = driver.find_element_by_xpath('/html/body/div[1]/div[3]/form/div[1]/div[1]/div[1]/div/div[2]/input')\n",
    "box.send_keys('apple')\n",
    "\n",
    "box.send_keys(Keys.ENTER)\n",
    "\n",
    "# click on images\n",
    "driver.find_element_by_xpath('//*[@id=\"hdtb-msb\"]/div[1]/div/div[2]/a').click()"
   ]
  },
  {
   "cell_type": "code",
   "execution_count": 4,
   "metadata": {},
   "outputs": [
    {
     "name": "stderr",
     "output_type": "stream",
     "text": [
      "<ipython-input-4-a906994e942a>:2: DeprecationWarning: find_element_by_xpath is deprecated. Please use find_element(by=By.XPATH, value=xpath) instead\n",
      "  driver.find_element_by_xpath('//*[@id=\"hdtb-msb\"]/div[1]/div/div[2]/a').click()\n"
     ]
    }
   ],
   "source": [
    "# click on images\n",
    "driver.find_element_by_xpath('//*[@id=\"hdtb-msb\"]/div[1]/div/div[2]/a').click()\n",
    "# /html/body/div[3]/c-wiz/div[1]/div/div[1]/div[1]/div/div/span[1]\n",
    "\n",
    "# take screenshot\n",
    "# driver.find_element_by_xpath('//*[@id=\"islrg\"]/div[1]/div[3]/a[1]/div[1]/img').screenshot('apple.jpg')"
   ]
  },
  {
   "cell_type": "code",
   "execution_count": null,
   "metadata": {},
   "outputs": [],
   "source": [
    "driver.execute_script('return document.body.scrollHeight')  # it returns the height of the entire webpage"
   ]
  },
  {
   "cell_type": "code",
   "execution_count": null,
   "metadata": {},
   "outputs": [],
   "source": [
    "# refresh page\n",
    "driver.refresh()"
   ]
  },
  {
   "cell_type": "code",
   "execution_count": null,
   "metadata": {},
   "outputs": [],
   "source": [
    "driver.execute_script('return document.body.scrollHeight')  # it returns the height of the entire webpage"
   ]
  },
  {
   "cell_type": "code",
   "execution_count": null,
   "metadata": {},
   "outputs": [],
   "source": [
    "driver.execute_script('window.scrollTo(0, 7622)')  # scroll"
   ]
  },
  {
   "cell_type": "code",
   "execution_count": null,
   "metadata": {},
   "outputs": [],
   "source": [
    "driver.execute_script('window.scrollTo(0, document.body.scrollHeight)')"
   ]
  },
  {
   "cell_type": "code",
   "execution_count": null,
   "metadata": {},
   "outputs": [],
   "source": [
    "while True:\n",
    "    driver.execute_script('window.scrollTo(0, document.body.scrollHeight)')"
   ]
  },
  {
   "cell_type": "code",
   "execution_count": 7,
   "metadata": {},
   "outputs": [
    {
     "name": "stderr",
     "output_type": "stream",
     "text": [
      "<ipython-input-7-d10012672ddf>:6: DeprecationWarning: find_element_by_xpath is deprecated. Please use find_element(by=By.XPATH, value=xpath) instead\n",
      "  box = driver.find_element_by_xpath('/html/body/div[1]/div[3]/form/div[1]/div[1]/div[1]/div/div[2]/input')\n",
      "<ipython-input-7-d10012672ddf>:12: DeprecationWarning: find_element_by_xpath is deprecated. Please use find_element(by=By.XPATH, value=xpath) instead\n",
      "  driver.find_element_by_xpath('//*[@id=\"hdtb-msb\"]/div[1]/div/div[2]/a').click()\n"
     ]
    }
   ],
   "source": [
    "# Explain: self scrolling\n",
    "import time\n",
    "driver.get('https://www.google.com/')\n",
    "\n",
    "#inputting text into a box\n",
    "box = driver.find_element_by_xpath('/html/body/div[1]/div[3]/form/div[1]/div[1]/div[1]/div/div[2]/input')\n",
    "box.send_keys('apple')\n",
    "\n",
    "box.send_keys(Keys.ENTER)\n",
    "\n",
    "# click on images\n",
    "driver.find_element_by_xpath('//*[@id=\"hdtb-msb\"]/div[1]/div/div[2]/a').click()\n",
    "\n",
    "# self scrolling\n",
    "previous_height = driver.execute_script('return document.body.scrollHeight') \n",
    "while True:\n",
    "    driver.execute_script('window.scrollTo(0, document.body.scrollHeight)')\n",
    "    time.sleep(2)  # wait untill the page is loaded\n",
    "    current_height = driver.execute_script('return document.body.scrollHeight') \n",
    "    if previous_height == current_height:\n",
    "        break\n",
    "    previous_height = current_height"
   ]
  },
  {
   "cell_type": "code",
   "execution_count": null,
   "metadata": {},
   "outputs": [],
   "source": [
    "# self scrolling\n",
    "previous_height = driver.execute_script('return document.body.scrollHeight') \n",
    "while True:\n",
    "    driver.execute_script('window.scrollTo(0, document.body.scrollHeight)')\n",
    "    time.sleep(2)  # wait untill the page is loaded\n",
    "    current_height = driver.execute_script('return document.body.scrollHeight') \n",
    "    if previous_height == current_height:\n",
    "        break\n",
    "    previous_height = current_height"
   ]
  },
  {
   "cell_type": "code",
   "execution_count": 8,
   "metadata": {},
   "outputs": [
    {
     "name": "stderr",
     "output_type": "stream",
     "text": [
      "<ipython-input-8-506da4dd3889>:1: DeprecationWarning: find_element_by_xpath is deprecated. Please use find_element(by=By.XPATH, value=xpath) instead\n",
      "  last_line = driver.find_element_by_xpath('//*[@id=\"islmp\"]/div/div/div/div[1]/div[2]/div[1]')\n"
     ]
    }
   ],
   "source": [
    "last_line = driver.find_element_by_xpath('//*[@id=\"islmp\"]/div/div/div/div[1]/div[2]/div[1]')"
   ]
  },
  {
   "cell_type": "code",
   "execution_count": 9,
   "metadata": {},
   "outputs": [
    {
     "name": "stdout",
     "output_type": "stream",
     "text": [
      "Help on WebElement in module selenium.webdriver.remote.webelement object:\n",
      "\n",
      "class WebElement(BaseWebElement)\n",
      " |  WebElement(parent, id_)\n",
      " |  \n",
      " |  Represents a DOM element.\n",
      " |  \n",
      " |  Generally, all interesting operations that interact with a document will be\n",
      " |  performed through this interface.\n",
      " |  \n",
      " |  All method calls will do a freshness check to ensure that the element\n",
      " |  reference is still valid.  This essentially determines whether or not the\n",
      " |  element is still attached to the DOM.  If this test fails, then an\n",
      " |  ``StaleElementReferenceException`` is thrown, and all future calls to this\n",
      " |  instance will fail.\n",
      " |  \n",
      " |  Method resolution order:\n",
      " |      WebElement\n",
      " |      BaseWebElement\n",
      " |      builtins.object\n",
      " |  \n",
      " |  Methods defined here:\n",
      " |  \n",
      " |  __eq__(self, element)\n",
      " |      Return self==value.\n",
      " |  \n",
      " |  __hash__(self)\n",
      " |      Return hash(self).\n",
      " |  \n",
      " |  __init__(self, parent, id_)\n",
      " |      Initialize self.  See help(type(self)) for accurate signature.\n",
      " |  \n",
      " |  __ne__(self, element)\n",
      " |      Return self!=value.\n",
      " |  \n",
      " |  __repr__(self)\n",
      " |      Return repr(self).\n",
      " |  \n",
      " |  clear(self) -> None\n",
      " |      Clears the text if it's a text entry element.\n",
      " |  \n",
      " |  click(self) -> None\n",
      " |      Clicks the element.\n",
      " |  \n",
      " |  find_element(self, by='id', value=None)\n",
      " |      Find an element given a By strategy and locator.\n",
      " |      \n",
      " |      :Usage:\n",
      " |          ::\n",
      " |      \n",
      " |              element = element.find_element(By.ID, 'foo')\n",
      " |      \n",
      " |      :rtype: WebElement\n",
      " |  \n",
      " |  find_element_by_class_name(self, name)\n",
      " |      Finds element within this element's children by class name.\n",
      " |      \n",
      " |      :Args:\n",
      " |       - name: The class name of the element to find.\n",
      " |      \n",
      " |      :Returns:\n",
      " |       - WebElement - the element if it was found\n",
      " |      \n",
      " |      :Raises:\n",
      " |       - NoSuchElementException - if the element wasn't found\n",
      " |      \n",
      " |      :Usage:\n",
      " |          ::\n",
      " |      \n",
      " |              element = element.find_element_by_class_name('foo')\n",
      " |  \n",
      " |  find_element_by_css_selector(self, css_selector)\n",
      " |      Finds element within this element's children by CSS selector.\n",
      " |      \n",
      " |      :Args:\n",
      " |       - css_selector - CSS selector string, ex: 'a.nav#home'\n",
      " |      \n",
      " |      :Returns:\n",
      " |       - WebElement - the element if it was found\n",
      " |      \n",
      " |      :Raises:\n",
      " |       - NoSuchElementException - if the element wasn't found\n",
      " |      \n",
      " |      :Usage:\n",
      " |          ::\n",
      " |      \n",
      " |              element = element.find_element_by_css_selector('#foo')\n",
      " |  \n",
      " |  find_element_by_id(self, id_)\n",
      " |      Finds element within this element's children by ID.\n",
      " |      \n",
      " |      :Args:\n",
      " |       - id\\_ - ID of child element to locate.\n",
      " |      \n",
      " |      :Returns:\n",
      " |       - WebElement - the element if it was found\n",
      " |      \n",
      " |      :Raises:\n",
      " |       - NoSuchElementException - if the element wasn't found\n",
      " |      \n",
      " |      :Usage:\n",
      " |          ::\n",
      " |      \n",
      " |              foo_element = element.find_element_by_id('foo')\n",
      " |  \n",
      " |  find_element_by_link_text(self, link_text)\n",
      " |      Finds element within this element's children by visible link text.\n",
      " |      \n",
      " |      :Args:\n",
      " |       - link_text - Link text string to search for.\n",
      " |      \n",
      " |      :Returns:\n",
      " |       - WebElement - the element if it was found\n",
      " |      \n",
      " |      :Raises:\n",
      " |       - NoSuchElementException - if the element wasn't found\n",
      " |      \n",
      " |      :Usage:\n",
      " |          ::\n",
      " |      \n",
      " |              element = element.find_element_by_link_text('Sign In')\n",
      " |  \n",
      " |  find_element_by_name(self, name)\n",
      " |      Finds element within this element's children by name.\n",
      " |      \n",
      " |      :Args:\n",
      " |       - name - name property of the element to find.\n",
      " |      \n",
      " |      :Returns:\n",
      " |       - WebElement - the element if it was found\n",
      " |      \n",
      " |      :Raises:\n",
      " |       - NoSuchElementException - if the element wasn't found\n",
      " |      \n",
      " |      :Usage:\n",
      " |          ::\n",
      " |      \n",
      " |              element = element.find_element_by_name('foo')\n",
      " |  \n",
      " |  find_element_by_partial_link_text(self, link_text)\n",
      " |      Finds element within this element's children by partially visible link text.\n",
      " |      \n",
      " |      :Args:\n",
      " |       - link_text: The text of the element to partially match on.\n",
      " |      \n",
      " |      :Returns:\n",
      " |       - WebElement - the element if it was found\n",
      " |      \n",
      " |      :Raises:\n",
      " |       - NoSuchElementException - if the element wasn't found\n",
      " |      \n",
      " |      :Usage:\n",
      " |          ::\n",
      " |      \n",
      " |              element = element.find_element_by_partial_link_text('Sign')\n",
      " |  \n",
      " |  find_element_by_tag_name(self, name)\n",
      " |      Finds element within this element's children by tag name.\n",
      " |      \n",
      " |      :Args:\n",
      " |       - name - name of html tag (eg: h1, a, span)\n",
      " |      \n",
      " |      :Returns:\n",
      " |       - WebElement - the element if it was found\n",
      " |      \n",
      " |      :Raises:\n",
      " |       - NoSuchElementException - if the element wasn't found\n",
      " |      \n",
      " |      :Usage:\n",
      " |          ::\n",
      " |      \n",
      " |              element = element.find_element_by_tag_name('h1')\n",
      " |  \n",
      " |  find_element_by_xpath(self, xpath)\n",
      " |      Finds element by xpath.\n",
      " |      \n",
      " |      :Args:\n",
      " |       - xpath - xpath of element to locate.  \"//input[@class='myelement']\"\n",
      " |      \n",
      " |      Note: The base path will be relative to this element's location.\n",
      " |      \n",
      " |      This will select the first link under this element.\n",
      " |      \n",
      " |      ::\n",
      " |      \n",
      " |          myelement.find_element_by_xpath(\".//a\")\n",
      " |      \n",
      " |      However, this will select the first link on the page.\n",
      " |      \n",
      " |      ::\n",
      " |      \n",
      " |          myelement.find_element_by_xpath(\"//a\")\n",
      " |      \n",
      " |      :Returns:\n",
      " |       - WebElement - the element if it was found\n",
      " |      \n",
      " |      :Raises:\n",
      " |       - NoSuchElementException - if the element wasn't found\n",
      " |      \n",
      " |      :Usage:\n",
      " |          ::\n",
      " |      \n",
      " |              element = element.find_element_by_xpath('//div/td[1]')\n",
      " |  \n",
      " |  find_elements(self, by='id', value=None)\n",
      " |      Find elements given a By strategy and locator.\n",
      " |      \n",
      " |      :Usage:\n",
      " |          ::\n",
      " |      \n",
      " |              element = element.find_elements(By.CLASS_NAME, 'foo')\n",
      " |      \n",
      " |      :rtype: list of WebElement\n",
      " |  \n",
      " |  find_elements_by_class_name(self, name)\n",
      " |      Finds a list of elements within this element's children by class name.\n",
      " |      \n",
      " |      :Args:\n",
      " |       - name: The class name of the elements to find.\n",
      " |      \n",
      " |      :Returns:\n",
      " |       - list of WebElement - a list with elements if any was found.  An\n",
      " |         empty list if not\n",
      " |      \n",
      " |      :Usage:\n",
      " |          ::\n",
      " |      \n",
      " |              elements = element.find_elements_by_class_name('foo')\n",
      " |  \n",
      " |  find_elements_by_css_selector(self, css_selector)\n",
      " |      Finds a list of elements within this element's children by CSS selector.\n",
      " |      \n",
      " |      :Args:\n",
      " |       - css_selector - CSS selector string, ex: 'a.nav#home'\n",
      " |      \n",
      " |      :Returns:\n",
      " |       - list of WebElement - a list with elements if any was found.  An\n",
      " |         empty list if not\n",
      " |      \n",
      " |      :Usage:\n",
      " |          ::\n",
      " |      \n",
      " |              elements = element.find_elements_by_css_selector('.foo')\n",
      " |  \n",
      " |  find_elements_by_id(self, id_)\n",
      " |      Finds a list of elements within this element's children by ID.\n",
      " |      Will return a list of webelements if found, or an empty list if not.\n",
      " |      \n",
      " |      :Args:\n",
      " |       - id\\_ - Id of child element to find.\n",
      " |      \n",
      " |      :Returns:\n",
      " |       - list of WebElement - a list with elements if any was found.  An\n",
      " |         empty list if not\n",
      " |      \n",
      " |      :Usage:\n",
      " |          ::\n",
      " |      \n",
      " |              elements = element.find_elements_by_id('foo')\n",
      " |  \n",
      " |  find_elements_by_link_text(self, link_text)\n",
      " |      Finds a list of elements within this element's children by visible link text.\n",
      " |      \n",
      " |      :Args:\n",
      " |       - link_text - Link text string to search for.\n",
      " |      \n",
      " |      :Returns:\n",
      " |       - list of webelement - a list with elements if any was found.  an\n",
      " |         empty list if not\n",
      " |      \n",
      " |      :Usage:\n",
      " |          ::\n",
      " |      \n",
      " |              elements = element.find_elements_by_link_text('Sign In')\n",
      " |  \n",
      " |  find_elements_by_name(self, name)\n",
      " |      Finds a list of elements within this element's children by name.\n",
      " |      \n",
      " |      :Args:\n",
      " |       - name - name property to search for.\n",
      " |      \n",
      " |      :Returns:\n",
      " |       - list of webelement - a list with elements if any was found.  an\n",
      " |         empty list if not\n",
      " |      \n",
      " |      :Usage:\n",
      " |          ::\n",
      " |      \n",
      " |              elements = element.find_elements_by_name('foo')\n",
      " |  \n",
      " |  find_elements_by_partial_link_text(self, link_text)\n",
      " |      Finds a list of elements within this element's children by link text.\n",
      " |      \n",
      " |      :Args:\n",
      " |       - link_text: The text of the element to partial match on.\n",
      " |      \n",
      " |      :Returns:\n",
      " |       - list of webelement - a list with elements if any was found.  an\n",
      " |         empty list if not\n",
      " |      \n",
      " |      :Usage:\n",
      " |          ::\n",
      " |      \n",
      " |              elements = element.find_elements_by_partial_link_text('Sign')\n",
      " |  \n",
      " |  find_elements_by_tag_name(self, name)\n",
      " |      Finds a list of elements within this element's children by tag name.\n",
      " |      \n",
      " |      :Args:\n",
      " |       - name - name of html tag (eg: h1, a, span)\n",
      " |      \n",
      " |      :Returns:\n",
      " |       - list of WebElement - a list with elements if any was found.  An\n",
      " |         empty list if not\n",
      " |      \n",
      " |      :Usage:\n",
      " |          ::\n",
      " |      \n",
      " |              elements = element.find_elements_by_tag_name('h1')\n",
      " |  \n",
      " |  find_elements_by_xpath(self, xpath)\n",
      " |      Finds elements within the element by xpath.\n",
      " |      \n",
      " |      :Args:\n",
      " |       - xpath - xpath locator string.\n",
      " |      \n",
      " |      Note: The base path will be relative to this element's location.\n",
      " |      \n",
      " |      This will select all links under this element.\n",
      " |      \n",
      " |      ::\n",
      " |      \n",
      " |          myelement.find_elements_by_xpath(\".//a\")\n",
      " |      \n",
      " |      However, this will select all links in the page itself.\n",
      " |      \n",
      " |      ::\n",
      " |      \n",
      " |          myelement.find_elements_by_xpath(\"//a\")\n",
      " |      \n",
      " |      :Returns:\n",
      " |       - list of WebElement - a list with elements if any was found.  An\n",
      " |         empty list if not\n",
      " |      \n",
      " |      :Usage:\n",
      " |          ::\n",
      " |      \n",
      " |              elements = element.find_elements_by_xpath(\"//div[contains(@class, 'foo')]\")\n",
      " |  \n",
      " |  get_attribute(self, name) -> str\n",
      " |      Gets the given attribute or property of the element.\n",
      " |      \n",
      " |      This method will first try to return the value of a property with the\n",
      " |      given name. If a property with that name doesn't exist, it returns the\n",
      " |      value of the attribute with the same name. If there's no attribute with\n",
      " |      that name, ``None`` is returned.\n",
      " |      \n",
      " |      Values which are considered truthy, that is equals \"true\" or \"false\",\n",
      " |      are returned as booleans.  All other non-``None`` values are returned\n",
      " |      as strings.  For attributes or properties which do not exist, ``None``\n",
      " |      is returned.\n",
      " |      \n",
      " |      To obtain the exact value of the attribute or property,\n",
      " |      use :func:`~selenium.webdriver.remote.BaseWebElement.get_dom_attribute` or\n",
      " |      :func:`~selenium.webdriver.remote.BaseWebElement.get_property` methods respectively.\n",
      " |      \n",
      " |      :Args:\n",
      " |          - name - Name of the attribute/property to retrieve.\n",
      " |      \n",
      " |      Example::\n",
      " |      \n",
      " |          # Check if the \"active\" CSS class is applied to an element.\n",
      " |          is_active = \"active\" in target_element.get_attribute(\"class\")\n",
      " |  \n",
      " |  get_dom_attribute(self, name) -> str\n",
      " |      Gets the given attribute of the element. Unlike :func:`~selenium.webdriver.remote.BaseWebElement.get_attribute`,\n",
      " |      this method only returns attributes declared in the element's HTML markup.\n",
      " |      \n",
      " |      :Args:\n",
      " |          - name - Name of the attribute to retrieve.\n",
      " |      \n",
      " |      :Usage:\n",
      " |          ::\n",
      " |      \n",
      " |              text_length = target_element.get_dom_attribute(\"class\")\n",
      " |  \n",
      " |  get_property(self, name) -> str\n",
      " |      Gets the given property of the element.\n",
      " |      \n",
      " |      :Args:\n",
      " |          - name - Name of the property to retrieve.\n",
      " |      \n",
      " |      :Usage:\n",
      " |          ::\n",
      " |      \n",
      " |              text_length = target_element.get_property(\"text_length\")\n",
      " |  \n",
      " |  is_displayed(self) -> bool\n",
      " |      Whether the element is visible to a user.\n",
      " |  \n",
      " |  is_enabled(self) -> bool\n",
      " |      Returns whether the element is enabled.\n",
      " |  \n",
      " |  is_selected(self) -> bool\n",
      " |      Returns whether the element is selected.\n",
      " |      \n",
      " |      Can be used to check if a checkbox or radio button is selected.\n",
      " |  \n",
      " |  screenshot(self, filename) -> bool\n",
      " |      Saves a screenshot of the current element to a PNG image file. Returns\n",
      " |         False if there is any IOError, else returns True. Use full paths in\n",
      " |         your filename.\n",
      " |      \n",
      " |      :Args:\n",
      " |       - filename: The full path you wish to save your screenshot to. This\n",
      " |         should end with a `.png` extension.\n",
      " |      \n",
      " |      :Usage:\n",
      " |          ::\n",
      " |      \n",
      " |              element.screenshot('/Screenshots/foo.png')\n",
      " |  \n",
      " |  send_keys(self, *value) -> None\n",
      " |      Simulates typing into the element.\n",
      " |      \n",
      " |      :Args:\n",
      " |          - value - A string for typing, or setting form fields.  For setting\n",
      " |            file inputs, this could be a local file path.\n",
      " |      \n",
      " |      Use this to send simple key events or to fill out form fields::\n",
      " |      \n",
      " |          form_textfield = driver.find_element(By.NAME, 'username')\n",
      " |          form_textfield.send_keys(\"admin\")\n",
      " |      \n",
      " |      This can also be used to set file inputs.\n",
      " |      \n",
      " |      ::\n",
      " |      \n",
      " |          file_input = driver.find_element(By.NAME, 'profilePic')\n",
      " |          file_input.send_keys(\"path/to/profilepic.gif\")\n",
      " |          # Generally it's better to wrap the file path in one of the methods\n",
      " |          # in os.path to return the actual path to support cross OS testing.\n",
      " |          # file_input.send_keys(os.path.abspath(\"path/to/profilepic.gif\"))\n",
      " |  \n",
      " |  submit(self)\n",
      " |      Submits a form.\n",
      " |  \n",
      " |  value_of_css_property(self, property_name) -> str\n",
      " |      The value of a CSS property.\n",
      " |  \n",
      " |  ----------------------------------------------------------------------\n",
      " |  Readonly properties defined here:\n",
      " |  \n",
      " |  accessible_name\n",
      " |      Returns the ARIA Level of the current webelement\n",
      " |  \n",
      " |  aria_role\n",
      " |      Returns the ARIA role of the current web element\n",
      " |  \n",
      " |  id\n",
      " |      Internal ID used by selenium.\n",
      " |      \n",
      " |      This is mainly for internal use. Simple use cases such as checking if 2\n",
      " |      webelements refer to the same element, can be done using ``==``::\n",
      " |      \n",
      " |          if element1 == element2:\n",
      " |              print(\"These 2 are equal\")\n",
      " |  \n",
      " |  location\n",
      " |      The location of the element in the renderable canvas.\n",
      " |  \n",
      " |  location_once_scrolled_into_view\n",
      " |      THIS PROPERTY MAY CHANGE WITHOUT WARNING. Use this to discover\n",
      " |      where on the screen an element is so that we can click it. This method\n",
      " |      should cause the element to be scrolled into view.\n",
      " |      \n",
      " |      Returns the top lefthand corner location on the screen, or ``None`` if\n",
      " |      the element is not visible.\n",
      " |  \n",
      " |  parent\n",
      " |      Internal reference to the WebDriver instance this element was found from.\n",
      " |  \n",
      " |  rect\n",
      " |      A dictionary with the size and location of the element.\n",
      " |  \n",
      " |  screenshot_as_base64\n",
      " |      Gets the screenshot of the current element as a base64 encoded string.\n",
      " |      \n",
      " |      :Usage:\n",
      " |          ::\n",
      " |      \n",
      " |              img_b64 = element.screenshot_as_base64\n",
      " |  \n",
      " |  screenshot_as_png\n",
      " |      Gets the screenshot of the current element as a binary data.\n",
      " |      \n",
      " |      :Usage:\n",
      " |          ::\n",
      " |      \n",
      " |              element_png = element.screenshot_as_png\n",
      " |  \n",
      " |  shadow_root\n",
      " |      Returns a shadow root of the element if there is one or an error. Only works from\n",
      " |      Chromium 96 onwards. Previous versions of Chromium based browsers will throw an\n",
      " |      assertion exception.\n",
      " |      \n",
      " |      :Returns:\n",
      " |        - ShadowRoot object or\n",
      " |        - NoSuchShadowRoot - if no shadow root was attached to element\n",
      " |  \n",
      " |  size\n",
      " |      The size of the element.\n",
      " |  \n",
      " |  tag_name\n",
      " |      This element's ``tagName`` property.\n",
      " |  \n",
      " |  text\n",
      " |      The text of the element.\n",
      " |  \n",
      " |  ----------------------------------------------------------------------\n",
      " |  Data and other attributes defined here:\n",
      " |  \n",
      " |  __abstractmethods__ = frozenset()\n",
      " |  \n",
      " |  ----------------------------------------------------------------------\n",
      " |  Data descriptors inherited from BaseWebElement:\n",
      " |  \n",
      " |  __dict__\n",
      " |      dictionary for instance variables (if defined)\n",
      " |  \n",
      " |  __weakref__\n",
      " |      list of weak references to the object (if defined)\n",
      "\n"
     ]
    }
   ],
   "source": [
    "help(last_line)"
   ]
  },
  {
   "cell_type": "code",
   "execution_count": 10,
   "metadata": {},
   "outputs": [
    {
     "data": {
      "text/plain": [
       "'div'"
      ]
     },
     "execution_count": 10,
     "metadata": {},
     "output_type": "execute_result"
    }
   ],
   "source": [
    "last_line.tag_name"
   ]
  },
  {
   "cell_type": "code",
   "execution_count": 11,
   "metadata": {},
   "outputs": [
    {
     "data": {
      "text/plain": [
       "'3'"
      ]
     },
     "execution_count": 11,
     "metadata": {},
     "output_type": "execute_result"
    }
   ],
   "source": [
    "last_line.get_attribute('data-status')"
   ]
  },
  {
   "cell_type": "code",
   "execution_count": null,
   "metadata": {},
   "outputs": [],
   "source": [
    "# Explain: self scrolling\n",
    "import time\n",
    "driver.get('https://www.google.com/')\n",
    "\n",
    "#inputting text into a box\n",
    "box = driver.find_element_by_xpath('/html/body/div[1]/div[3]/form/div[1]/div[1]/div[1]/div/div[2]/input')\n",
    "box.send_keys('apple')\n",
    "\n",
    "box.send_keys(Keys.ENTER)\n",
    "\n",
    "# click on images\n",
    "driver.find_element_by_xpath('//*[@id=\"hdtb-msb\"]/div[1]/div/div[3]/a').click()\n",
    "\n",
    "# self scrolling\n",
    "previous_height = driver.execute_script('return document.body.scrollHeight') \n",
    "while True:\n",
    "    driver.execute_script('window.scrollTo(0, document.body.scrollHeight)')\n",
    "    # check if it reached the end\n",
    "    last_line = driver.find_element_by_xpath('//*[@id=\"islmp\"]/div/div/div/div[1]/div[2]/div[1]')\n",
    "    if last_line.get_attribute('data-status') != '3':\n",
    "        continue\n",
    "    else:\n",
    "        break\n",
    "\n"
   ]
  },
  {
   "cell_type": "code",
   "execution_count": 12,
   "metadata": {},
   "outputs": [
    {
     "name": "stderr",
     "output_type": "stream",
     "text": [
      "<ipython-input-12-ce8d78580473>:9: DeprecationWarning: executable_path has been deprecated, please pass in a Service object\n",
      "  driver = webdriver.Chrome('chromedriver.exe')\n",
      "<ipython-input-12-ce8d78580473>:15: DeprecationWarning: find_element_by_xpath is deprecated. Please use find_element(by=By.XPATH, value=xpath) instead\n",
      "  username_box = driver.find_element_by_xpath('//*[@id=\"loginForm\"]/div/div[1]/div/label/input')\n",
      "<ipython-input-12-ce8d78580473>:16: DeprecationWarning: find_element_by_xpath is deprecated. Please use find_element(by=By.XPATH, value=xpath) instead\n",
      "  pass_box = driver.find_element_by_xpath('//*[@id=\"loginForm\"]/div/div[2]/div/label/input')\n",
      "<ipython-input-12-ce8d78580473>:24: DeprecationWarning: find_element_by_xpath is deprecated. Please use find_element(by=By.XPATH, value=xpath) instead\n",
      "  save_info_btn = driver.find_element_by_xpath('//*[@id=\"react-root\"]/section/main/div/div/div/div/button')\n"
     ]
    },
    {
     "ename": "NoSuchElementException",
     "evalue": "Message: no such element: Unable to locate element: {\"method\":\"xpath\",\"selector\":\"//*[@id=\"react-root\"]/section/main/div/div/div/div/button\"}\n  (Session info: chrome=101.0.4951.54)\nStacktrace:\nBacktrace:\n\tOrdinal0 [0x0050B8F3+2406643]\n\tOrdinal0 [0x0049AF31+1945393]\n\tOrdinal0 [0x0038C748+837448]\n\tOrdinal0 [0x003B92E0+1020640]\n\tOrdinal0 [0x003B957B+1021307]\n\tOrdinal0 [0x003E6372+1205106]\n\tOrdinal0 [0x003D42C4+1131204]\n\tOrdinal0 [0x003E4682+1197698]\n\tOrdinal0 [0x003D4096+1130646]\n\tOrdinal0 [0x003AE636+976438]\n\tOrdinal0 [0x003AF546+980294]\n\tGetHandleVerifier [0x00779612+2498066]\n\tGetHandleVerifier [0x0076C920+2445600]\n\tGetHandleVerifier [0x005A4F2A+579370]\n\tGetHandleVerifier [0x005A3D36+574774]\n\tOrdinal0 [0x004A1C0B+1973259]\n\tOrdinal0 [0x004A6688+1992328]\n\tOrdinal0 [0x004A6775+1992565]\n\tOrdinal0 [0x004AF8D1+2029777]\n\tBaseThreadInitThunk [0x758A6739+25]\n\tRtlGetFullPathName_UEx [0x76FC8E7F+1215]\n\tRtlGetFullPathName_UEx [0x76FC8E4D+1165]\n",
     "output_type": "error",
     "traceback": [
      "\u001b[1;31m---------------------------------------------------------------------------\u001b[0m",
      "\u001b[1;31mNoSuchElementException\u001b[0m                    Traceback (most recent call last)",
      "\u001b[1;32m<ipython-input-12-ce8d78580473>\u001b[0m in \u001b[0;36m<module>\u001b[1;34m\u001b[0m\n\u001b[0;32m     22\u001b[0m \u001b[1;33m\u001b[0m\u001b[0m\n\u001b[0;32m     23\u001b[0m \u001b[1;31m# press not now button\u001b[0m\u001b[1;33m\u001b[0m\u001b[1;33m\u001b[0m\u001b[1;33m\u001b[0m\u001b[0m\n\u001b[1;32m---> 24\u001b[1;33m \u001b[0msave_info_btn\u001b[0m \u001b[1;33m=\u001b[0m \u001b[0mdriver\u001b[0m\u001b[1;33m.\u001b[0m\u001b[0mfind_element_by_xpath\u001b[0m\u001b[1;33m(\u001b[0m\u001b[1;34m'//*[@id=\"react-root\"]/section/main/div/div/div/div/button'\u001b[0m\u001b[1;33m)\u001b[0m\u001b[1;33m\u001b[0m\u001b[1;33m\u001b[0m\u001b[0m\n\u001b[0m\u001b[0;32m     25\u001b[0m \u001b[0msave_info_btn\u001b[0m\u001b[1;33m.\u001b[0m\u001b[0mclick\u001b[0m\u001b[1;33m(\u001b[0m\u001b[1;33m)\u001b[0m\u001b[1;33m\u001b[0m\u001b[1;33m\u001b[0m\u001b[0m\n\u001b[0;32m     26\u001b[0m \u001b[0manother_btn\u001b[0m \u001b[1;33m=\u001b[0m \u001b[0mdriver\u001b[0m\u001b[1;33m.\u001b[0m\u001b[0mfind_element_by_xpath\u001b[0m\u001b[1;33m(\u001b[0m\u001b[1;34m'/html/body/div[5]/div/div/div/div[3]/button[2]'\u001b[0m\u001b[1;33m)\u001b[0m\u001b[1;33m\u001b[0m\u001b[1;33m\u001b[0m\u001b[0m\n",
      "\u001b[1;32mC:\\Python38\\lib\\site-packages\\selenium\\webdriver\\remote\\webdriver.py\u001b[0m in \u001b[0;36mfind_element_by_xpath\u001b[1;34m(self, xpath)\u001b[0m\n\u001b[0;32m    524\u001b[0m             \u001b[0mstacklevel\u001b[0m\u001b[1;33m=\u001b[0m\u001b[1;36m2\u001b[0m\u001b[1;33m,\u001b[0m\u001b[1;33m\u001b[0m\u001b[1;33m\u001b[0m\u001b[0m\n\u001b[0;32m    525\u001b[0m         )\n\u001b[1;32m--> 526\u001b[1;33m         \u001b[1;32mreturn\u001b[0m \u001b[0mself\u001b[0m\u001b[1;33m.\u001b[0m\u001b[0mfind_element\u001b[0m\u001b[1;33m(\u001b[0m\u001b[0mby\u001b[0m\u001b[1;33m=\u001b[0m\u001b[0mBy\u001b[0m\u001b[1;33m.\u001b[0m\u001b[0mXPATH\u001b[0m\u001b[1;33m,\u001b[0m \u001b[0mvalue\u001b[0m\u001b[1;33m=\u001b[0m\u001b[0mxpath\u001b[0m\u001b[1;33m)\u001b[0m\u001b[1;33m\u001b[0m\u001b[1;33m\u001b[0m\u001b[0m\n\u001b[0m\u001b[0;32m    527\u001b[0m \u001b[1;33m\u001b[0m\u001b[0m\n\u001b[0;32m    528\u001b[0m     \u001b[1;32mdef\u001b[0m \u001b[0mfind_elements_by_xpath\u001b[0m\u001b[1;33m(\u001b[0m\u001b[0mself\u001b[0m\u001b[1;33m,\u001b[0m \u001b[0mxpath\u001b[0m\u001b[1;33m)\u001b[0m \u001b[1;33m->\u001b[0m \u001b[0mList\u001b[0m\u001b[1;33m[\u001b[0m\u001b[0mWebElement\u001b[0m\u001b[1;33m]\u001b[0m\u001b[1;33m:\u001b[0m\u001b[1;33m\u001b[0m\u001b[1;33m\u001b[0m\u001b[0m\n",
      "\u001b[1;32mC:\\Python38\\lib\\site-packages\\selenium\\webdriver\\remote\\webdriver.py\u001b[0m in \u001b[0;36mfind_element\u001b[1;34m(self, by, value)\u001b[0m\n\u001b[0;32m   1249\u001b[0m             \u001b[0mvalue\u001b[0m \u001b[1;33m=\u001b[0m \u001b[1;34m'[name=\"%s\"]'\u001b[0m \u001b[1;33m%\u001b[0m \u001b[0mvalue\u001b[0m\u001b[1;33m\u001b[0m\u001b[1;33m\u001b[0m\u001b[0m\n\u001b[0;32m   1250\u001b[0m \u001b[1;33m\u001b[0m\u001b[0m\n\u001b[1;32m-> 1251\u001b[1;33m         return self.execute(Command.FIND_ELEMENT, {\n\u001b[0m\u001b[0;32m   1252\u001b[0m             \u001b[1;34m'using'\u001b[0m\u001b[1;33m:\u001b[0m \u001b[0mby\u001b[0m\u001b[1;33m,\u001b[0m\u001b[1;33m\u001b[0m\u001b[1;33m\u001b[0m\u001b[0m\n\u001b[0;32m   1253\u001b[0m             'value': value})['value']\n",
      "\u001b[1;32mC:\\Python38\\lib\\site-packages\\selenium\\webdriver\\remote\\webdriver.py\u001b[0m in \u001b[0;36mexecute\u001b[1;34m(self, driver_command, params)\u001b[0m\n\u001b[0;32m    428\u001b[0m         \u001b[0mresponse\u001b[0m \u001b[1;33m=\u001b[0m \u001b[0mself\u001b[0m\u001b[1;33m.\u001b[0m\u001b[0mcommand_executor\u001b[0m\u001b[1;33m.\u001b[0m\u001b[0mexecute\u001b[0m\u001b[1;33m(\u001b[0m\u001b[0mdriver_command\u001b[0m\u001b[1;33m,\u001b[0m \u001b[0mparams\u001b[0m\u001b[1;33m)\u001b[0m\u001b[1;33m\u001b[0m\u001b[1;33m\u001b[0m\u001b[0m\n\u001b[0;32m    429\u001b[0m         \u001b[1;32mif\u001b[0m \u001b[0mresponse\u001b[0m\u001b[1;33m:\u001b[0m\u001b[1;33m\u001b[0m\u001b[1;33m\u001b[0m\u001b[0m\n\u001b[1;32m--> 430\u001b[1;33m             \u001b[0mself\u001b[0m\u001b[1;33m.\u001b[0m\u001b[0merror_handler\u001b[0m\u001b[1;33m.\u001b[0m\u001b[0mcheck_response\u001b[0m\u001b[1;33m(\u001b[0m\u001b[0mresponse\u001b[0m\u001b[1;33m)\u001b[0m\u001b[1;33m\u001b[0m\u001b[1;33m\u001b[0m\u001b[0m\n\u001b[0m\u001b[0;32m    431\u001b[0m             response['value'] = self._unwrap_value(\n\u001b[0;32m    432\u001b[0m                 response.get('value', None))\n",
      "\u001b[1;32mC:\\Python38\\lib\\site-packages\\selenium\\webdriver\\remote\\errorhandler.py\u001b[0m in \u001b[0;36mcheck_response\u001b[1;34m(self, response)\u001b[0m\n\u001b[0;32m    245\u001b[0m                 \u001b[0malert_text\u001b[0m \u001b[1;33m=\u001b[0m \u001b[0mvalue\u001b[0m\u001b[1;33m[\u001b[0m\u001b[1;34m'alert'\u001b[0m\u001b[1;33m]\u001b[0m\u001b[1;33m.\u001b[0m\u001b[0mget\u001b[0m\u001b[1;33m(\u001b[0m\u001b[1;34m'text'\u001b[0m\u001b[1;33m)\u001b[0m\u001b[1;33m\u001b[0m\u001b[1;33m\u001b[0m\u001b[0m\n\u001b[0;32m    246\u001b[0m             \u001b[1;32mraise\u001b[0m \u001b[0mexception_class\u001b[0m\u001b[1;33m(\u001b[0m\u001b[0mmessage\u001b[0m\u001b[1;33m,\u001b[0m \u001b[0mscreen\u001b[0m\u001b[1;33m,\u001b[0m \u001b[0mstacktrace\u001b[0m\u001b[1;33m,\u001b[0m \u001b[0malert_text\u001b[0m\u001b[1;33m)\u001b[0m  \u001b[1;31m# type: ignore[call-arg]  # mypy is not smart enough here\u001b[0m\u001b[1;33m\u001b[0m\u001b[1;33m\u001b[0m\u001b[0m\n\u001b[1;32m--> 247\u001b[1;33m         \u001b[1;32mraise\u001b[0m \u001b[0mexception_class\u001b[0m\u001b[1;33m(\u001b[0m\u001b[0mmessage\u001b[0m\u001b[1;33m,\u001b[0m \u001b[0mscreen\u001b[0m\u001b[1;33m,\u001b[0m \u001b[0mstacktrace\u001b[0m\u001b[1;33m)\u001b[0m\u001b[1;33m\u001b[0m\u001b[1;33m\u001b[0m\u001b[0m\n\u001b[0m\u001b[0;32m    248\u001b[0m \u001b[1;33m\u001b[0m\u001b[0m\n\u001b[0;32m    249\u001b[0m     \u001b[1;32mdef\u001b[0m \u001b[0m_value_or_default\u001b[0m\u001b[1;33m(\u001b[0m\u001b[0mself\u001b[0m\u001b[1;33m,\u001b[0m \u001b[0mobj\u001b[0m\u001b[1;33m:\u001b[0m \u001b[0mMapping\u001b[0m\u001b[1;33m[\u001b[0m\u001b[0m_KT\u001b[0m\u001b[1;33m,\u001b[0m \u001b[0m_VT\u001b[0m\u001b[1;33m]\u001b[0m\u001b[1;33m,\u001b[0m \u001b[0mkey\u001b[0m\u001b[1;33m:\u001b[0m \u001b[0m_KT\u001b[0m\u001b[1;33m,\u001b[0m \u001b[0mdefault\u001b[0m\u001b[1;33m:\u001b[0m \u001b[0m_VT\u001b[0m\u001b[1;33m)\u001b[0m \u001b[1;33m->\u001b[0m \u001b[0m_VT\u001b[0m\u001b[1;33m:\u001b[0m\u001b[1;33m\u001b[0m\u001b[1;33m\u001b[0m\u001b[0m\n",
      "\u001b[1;31mNoSuchElementException\u001b[0m: Message: no such element: Unable to locate element: {\"method\":\"xpath\",\"selector\":\"//*[@id=\"react-root\"]/section/main/div/div/div/div/button\"}\n  (Session info: chrome=101.0.4951.54)\nStacktrace:\nBacktrace:\n\tOrdinal0 [0x0050B8F3+2406643]\n\tOrdinal0 [0x0049AF31+1945393]\n\tOrdinal0 [0x0038C748+837448]\n\tOrdinal0 [0x003B92E0+1020640]\n\tOrdinal0 [0x003B957B+1021307]\n\tOrdinal0 [0x003E6372+1205106]\n\tOrdinal0 [0x003D42C4+1131204]\n\tOrdinal0 [0x003E4682+1197698]\n\tOrdinal0 [0x003D4096+1130646]\n\tOrdinal0 [0x003AE636+976438]\n\tOrdinal0 [0x003AF546+980294]\n\tGetHandleVerifier [0x00779612+2498066]\n\tGetHandleVerifier [0x0076C920+2445600]\n\tGetHandleVerifier [0x005A4F2A+579370]\n\tGetHandleVerifier [0x005A3D36+574774]\n\tOrdinal0 [0x004A1C0B+1973259]\n\tOrdinal0 [0x004A6688+1992328]\n\tOrdinal0 [0x004A6775+1992565]\n\tOrdinal0 [0x004AF8D1+2029777]\n\tBaseThreadInitThunk [0x758A6739+25]\n\tRtlGetFullPathName_UEx [0x76FC8E7F+1215]\n\tRtlGetFullPathName_UEx [0x76FC8E4D+1165]\n"
     ]
    }
   ],
   "source": [
    "# Explain: waits\n",
    "# Sometimes a page may take a while to load\n",
    "\n",
    "# import libraries\n",
    "from selenium.webdriver.common.by import By\n",
    "from selenium.webdriver.support.ui import WebDriverWait\n",
    "from selenium.webdriver.support import expected_conditions as EC\n",
    "\n",
    "driver = webdriver.Chrome('chromedriver.exe') \n",
    "driver.get('https://www.instagram.com/')\n",
    "my_username = open('u.txt').read().strip()\n",
    "my_password = open('p.txt').read().strip()\n",
    "\n",
    "#inputting username and password and pressing ok\n",
    "username_box = driver.find_element_by_xpath('//*[@id=\"loginForm\"]/div/div[1]/div/label/input')\n",
    "pass_box = driver.find_element_by_xpath('//*[@id=\"loginForm\"]/div/div[2]/div/label/input')\n",
    "\n",
    "username_box.send_keys(my_username)\n",
    "pass_box.send_keys(my_password)\n",
    "\n",
    "pass_box.send_keys(Keys.ENTER)\n",
    "\n",
    "# press not now button\n",
    "save_info_btn = driver.find_element_by_xpath('//*[@id=\"react-root\"]/section/main/div/div/div/div/button')\n",
    "save_info_btn.click()\n",
    "another_btn = driver.find_element_by_xpath('/html/body/div[5]/div/div/div/div[3]/button[2]')\n",
    "another_btn.click()"
   ]
  },
  {
   "cell_type": "code",
   "execution_count": null,
   "metadata": {},
   "outputs": [],
   "source": [
    "save_info_btn = driver.find_element_by_xpath('//*[@id=\"react-root\"]/section/main/div/div/div/div/button')\n",
    "save_info_btn.click()"
   ]
  },
  {
   "cell_type": "code",
   "execution_count": null,
   "metadata": {},
   "outputs": [],
   "source": [
    "another_btn = driver.find_element_by_xpath('/html/body/div[5]/div/div/div/div[3]/button[2]')\n",
    "another_btn.click()"
   ]
  },
  {
   "cell_type": "code",
   "execution_count": 13,
   "metadata": {},
   "outputs": [
    {
     "name": "stderr",
     "output_type": "stream",
     "text": [
      "<ipython-input-13-463310ece089>:11: DeprecationWarning: executable_path has been deprecated, please pass in a Service object\n",
      "  driver = webdriver.Chrome('chromedriver.exe')\n",
      "<ipython-input-13-463310ece089>:17: DeprecationWarning: find_element_by_xpath is deprecated. Please use find_element(by=By.XPATH, value=xpath) instead\n",
      "  username_box = driver.find_element_by_xpath('//*[@id=\"loginForm\"]/div/div[1]/div/label/input')\n",
      "<ipython-input-13-463310ece089>:18: DeprecationWarning: find_element_by_xpath is deprecated. Please use find_element(by=By.XPATH, value=xpath) instead\n",
      "  pass_box = driver.find_element_by_xpath('//*[@id=\"loginForm\"]/div/div[2]/div/label/input')\n",
      "<ipython-input-13-463310ece089>:30: DeprecationWarning: find_element_by_xpath is deprecated. Please use find_element(by=By.XPATH, value=xpath) instead\n",
      "  another_btn = driver.find_element_by_xpath('/html/body/div[5]/div/div/div/div[3]/button[2]')\n"
     ]
    }
   ],
   "source": [
    "# so sometimes we need to wait\n",
    "\n",
    "# Explain: waits\n",
    "# Sometimes a page may take a while to load\n",
    "\n",
    "# import libraries\n",
    "from selenium.webdriver.common.by import By\n",
    "from selenium.webdriver.support.ui import WebDriverWait\n",
    "from selenium.webdriver.support import expected_conditions as EC\n",
    "\n",
    "driver = webdriver.Chrome('chromedriver.exe') \n",
    "driver.get('https://www.instagram.com/')\n",
    "# my_username = '********'\n",
    "# my_password = '********'\n",
    "\n",
    "#inputting username and password and pressing ok\n",
    "username_box = driver.find_element_by_xpath('//*[@id=\"loginForm\"]/div/div[1]/div/label/input')\n",
    "pass_box = driver.find_element_by_xpath('//*[@id=\"loginForm\"]/div/div[2]/div/label/input')\n",
    "\n",
    "username_box.send_keys(my_username)\n",
    "pass_box.send_keys(my_password)\n",
    "\n",
    "pass_box.send_keys(Keys.ENTER)\n",
    "\n",
    "# press not now button\n",
    "save_info_btn = WebDriverWait(driver, 10).until(\n",
    "        EC.presence_of_element_located((By.XPATH, '//*[@id=\"react-root\"]/section/main/div/div/div/div/button')))\n",
    "save_info_btn.click()\n",
    "\n",
    "another_btn = driver.find_element_by_xpath('/html/body/div[5]/div/div/div/div[3]/button[2]')\n",
    "another_btn.click()"
   ]
  },
  {
   "cell_type": "code",
   "execution_count": null,
   "metadata": {},
   "outputs": [],
   "source": [
    "# so sometimes we need to wait\n",
    "\n",
    "# Explain: waits\n",
    "# Sometimes a page may take a while to load\n",
    "\n",
    "# import libraries\n",
    "from selenium.webdriver.common.by import By\n",
    "from selenium.webdriver.support.ui import WebDriverWait\n",
    "from selenium.webdriver.support import expected_conditions as EC\n",
    "\n",
    "driver = webdriver.Chrome('chromedriver.exe') \n",
    "driver.get('https://www.instagram.com/')\n",
    "# my_username = '********'\n",
    "# my_password = '********'\n",
    "\n",
    "#inputting username and password and pressing ok\n",
    "username_box = driver.find_element_by_xpath('//*[@id=\"loginForm\"]/div/div[1]/div/label/input')\n",
    "pass_box = driver.find_element_by_xpath('//*[@id=\"loginForm\"]/div/div[2]/div/label/input')\n",
    "\n",
    "username_box.send_keys(my_username)\n",
    "pass_box.send_keys(my_password)\n",
    "\n",
    "pass_box.send_keys(Keys.ENTER)\n",
    "\n",
    "# press not now button\n",
    "save_info_btn = WebDriverWait(driver, 10).until(\n",
    "        EC.presence_of_element_located((By.XPATH, '//*[@id=\"react-root\"]/section/main/div/div/div/div/button')))\n",
    "save_info_btn.click()\n",
    "\n",
    "another_btn = WebDriverWait(driver, 10).until(\n",
    "        EC.presence_of_element_located((By.XPATH, '/html/body/div[5]/div/div/div/div[3]/button[2]')))\n",
    "another_btn.click()"
   ]
  },
  {
   "cell_type": "code",
   "execution_count": 15,
   "metadata": {},
   "outputs": [
    {
     "ename": "TimeoutException",
     "evalue": "Message: \nStacktrace:\nBacktrace:\n\tOrdinal0 [0x0050B8F3+2406643]\n\tOrdinal0 [0x0049AF31+1945393]\n\tOrdinal0 [0x0038C748+837448]\n\tOrdinal0 [0x003B92E0+1020640]\n\tOrdinal0 [0x003B957B+1021307]\n\tOrdinal0 [0x003E6372+1205106]\n\tOrdinal0 [0x003D42C4+1131204]\n\tOrdinal0 [0x003E4682+1197698]\n\tOrdinal0 [0x003D4096+1130646]\n\tOrdinal0 [0x003AE636+976438]\n\tOrdinal0 [0x003AF546+980294]\n\tGetHandleVerifier [0x00779612+2498066]\n\tGetHandleVerifier [0x0076C920+2445600]\n\tGetHandleVerifier [0x005A4F2A+579370]\n\tGetHandleVerifier [0x005A3D36+574774]\n\tOrdinal0 [0x004A1C0B+1973259]\n\tOrdinal0 [0x004A6688+1992328]\n\tOrdinal0 [0x004A6775+1992565]\n\tOrdinal0 [0x004AF8D1+2029777]\n\tBaseThreadInitThunk [0x758A6739+25]\n\tRtlGetFullPathName_UEx [0x76FC8E7F+1215]\n\tRtlGetFullPathName_UEx [0x76FC8E4D+1165]\n",
     "output_type": "error",
     "traceback": [
      "\u001b[1;31m---------------------------------------------------------------------------\u001b[0m",
      "\u001b[1;31mTimeoutException\u001b[0m                          Traceback (most recent call last)",
      "\u001b[1;32m<ipython-input-15-b5d704c0f061>\u001b[0m in \u001b[0;36m<module>\u001b[1;34m\u001b[0m\n\u001b[0;32m      1\u001b[0m \u001b[1;31m# follow\u001b[0m\u001b[1;33m\u001b[0m\u001b[1;33m\u001b[0m\u001b[1;33m\u001b[0m\u001b[0m\n\u001b[0;32m      2\u001b[0m \u001b[1;31m#driver.get('https://www.instagram.com/nature/')\u001b[0m\u001b[1;33m\u001b[0m\u001b[1;33m\u001b[0m\u001b[1;33m\u001b[0m\u001b[0m\n\u001b[1;32m----> 3\u001b[1;33m follow_btn = WebDriverWait(driver, 10).until(\n\u001b[0m\u001b[0;32m      4\u001b[0m         EC.presence_of_element_located((By.XPATH, '//*[@id=\"react-root\"]/section/main/div/header/section/div[2]/div/div[2]/button')))\n\u001b[0;32m      5\u001b[0m \u001b[0mfollow_btn\u001b[0m\u001b[1;33m.\u001b[0m\u001b[0mclick\u001b[0m\u001b[1;33m(\u001b[0m\u001b[1;33m)\u001b[0m\u001b[1;33m\u001b[0m\u001b[1;33m\u001b[0m\u001b[0m\n",
      "\u001b[1;32mC:\\Python38\\lib\\site-packages\\selenium\\webdriver\\support\\wait.py\u001b[0m in \u001b[0;36muntil\u001b[1;34m(self, method, message)\u001b[0m\n\u001b[0;32m     87\u001b[0m             \u001b[1;32mif\u001b[0m \u001b[0mtime\u001b[0m\u001b[1;33m.\u001b[0m\u001b[0mmonotonic\u001b[0m\u001b[1;33m(\u001b[0m\u001b[1;33m)\u001b[0m \u001b[1;33m>\u001b[0m \u001b[0mend_time\u001b[0m\u001b[1;33m:\u001b[0m\u001b[1;33m\u001b[0m\u001b[1;33m\u001b[0m\u001b[0m\n\u001b[0;32m     88\u001b[0m                 \u001b[1;32mbreak\u001b[0m\u001b[1;33m\u001b[0m\u001b[1;33m\u001b[0m\u001b[0m\n\u001b[1;32m---> 89\u001b[1;33m         \u001b[1;32mraise\u001b[0m \u001b[0mTimeoutException\u001b[0m\u001b[1;33m(\u001b[0m\u001b[0mmessage\u001b[0m\u001b[1;33m,\u001b[0m \u001b[0mscreen\u001b[0m\u001b[1;33m,\u001b[0m \u001b[0mstacktrace\u001b[0m\u001b[1;33m)\u001b[0m\u001b[1;33m\u001b[0m\u001b[1;33m\u001b[0m\u001b[0m\n\u001b[0m\u001b[0;32m     90\u001b[0m \u001b[1;33m\u001b[0m\u001b[0m\n\u001b[0;32m     91\u001b[0m     \u001b[1;32mdef\u001b[0m \u001b[0muntil_not\u001b[0m\u001b[1;33m(\u001b[0m\u001b[0mself\u001b[0m\u001b[1;33m,\u001b[0m \u001b[0mmethod\u001b[0m\u001b[1;33m,\u001b[0m \u001b[0mmessage\u001b[0m\u001b[1;33m=\u001b[0m\u001b[1;34m''\u001b[0m\u001b[1;33m)\u001b[0m\u001b[1;33m:\u001b[0m\u001b[1;33m\u001b[0m\u001b[1;33m\u001b[0m\u001b[0m\n",
      "\u001b[1;31mTimeoutException\u001b[0m: Message: \nStacktrace:\nBacktrace:\n\tOrdinal0 [0x0050B8F3+2406643]\n\tOrdinal0 [0x0049AF31+1945393]\n\tOrdinal0 [0x0038C748+837448]\n\tOrdinal0 [0x003B92E0+1020640]\n\tOrdinal0 [0x003B957B+1021307]\n\tOrdinal0 [0x003E6372+1205106]\n\tOrdinal0 [0x003D42C4+1131204]\n\tOrdinal0 [0x003E4682+1197698]\n\tOrdinal0 [0x003D4096+1130646]\n\tOrdinal0 [0x003AE636+976438]\n\tOrdinal0 [0x003AF546+980294]\n\tGetHandleVerifier [0x00779612+2498066]\n\tGetHandleVerifier [0x0076C920+2445600]\n\tGetHandleVerifier [0x005A4F2A+579370]\n\tGetHandleVerifier [0x005A3D36+574774]\n\tOrdinal0 [0x004A1C0B+1973259]\n\tOrdinal0 [0x004A6688+1992328]\n\tOrdinal0 [0x004A6775+1992565]\n\tOrdinal0 [0x004AF8D1+2029777]\n\tBaseThreadInitThunk [0x758A6739+25]\n\tRtlGetFullPathName_UEx [0x76FC8E7F+1215]\n\tRtlGetFullPathName_UEx [0x76FC8E4D+1165]\n"
     ]
    }
   ],
   "source": [
    "# follow \n",
    "#driver.get('https://www.instagram.com/nature/')\n",
    "follow_btn = WebDriverWait(driver, 10).until(\n",
    "        EC.presence_of_element_located((By.XPATH, '//*[@id=\"react-root\"]/section/main/div/header/section/div[2]/div/div[2]/button')))\n",
    "follow_btn.click()"
   ]
  },
  {
   "cell_type": "code",
   "execution_count": 16,
   "metadata": {},
   "outputs": [
    {
     "ename": "TimeoutException",
     "evalue": "Message: \nStacktrace:\nBacktrace:\n\tOrdinal0 [0x0050B8F3+2406643]\n\tOrdinal0 [0x0049AF31+1945393]\n\tOrdinal0 [0x0038C748+837448]\n\tOrdinal0 [0x003B92E0+1020640]\n\tOrdinal0 [0x003B957B+1021307]\n\tOrdinal0 [0x003E6372+1205106]\n\tOrdinal0 [0x003D42C4+1131204]\n\tOrdinal0 [0x003E4682+1197698]\n\tOrdinal0 [0x003D4096+1130646]\n\tOrdinal0 [0x003AE636+976438]\n\tOrdinal0 [0x003AF546+980294]\n\tGetHandleVerifier [0x00779612+2498066]\n\tGetHandleVerifier [0x0076C920+2445600]\n\tGetHandleVerifier [0x005A4F2A+579370]\n\tGetHandleVerifier [0x005A3D36+574774]\n\tOrdinal0 [0x004A1C0B+1973259]\n\tOrdinal0 [0x004A6688+1992328]\n\tOrdinal0 [0x004A6775+1992565]\n\tOrdinal0 [0x004AF8D1+2029777]\n\tBaseThreadInitThunk [0x758A6739+25]\n\tRtlGetFullPathName_UEx [0x76FC8E7F+1215]\n\tRtlGetFullPathName_UEx [0x76FC8E4D+1165]\n",
     "output_type": "error",
     "traceback": [
      "\u001b[1;31m---------------------------------------------------------------------------\u001b[0m",
      "\u001b[1;31mTimeoutException\u001b[0m                          Traceback (most recent call last)",
      "\u001b[1;32m<ipython-input-16-b516ef3e878f>\u001b[0m in \u001b[0;36m<module>\u001b[1;34m\u001b[0m\n\u001b[0;32m      1\u001b[0m \u001b[0mxpath\u001b[0m \u001b[1;33m=\u001b[0m \u001b[1;34m'//*[@id=\"react-root\"]/section/main/div/header/section/div[2]/div/div[2]/button'\u001b[0m\u001b[1;33m\u001b[0m\u001b[1;33m\u001b[0m\u001b[0m\n\u001b[1;32m----> 2\u001b[1;33m unfollow_btn = WebDriverWait(driver, 10).until(\n\u001b[0m\u001b[0;32m      3\u001b[0m         EC.presence_of_element_located((By.XPATH, xpath)))\n\u001b[0;32m      4\u001b[0m \u001b[0munfollow_btn\u001b[0m\u001b[1;33m.\u001b[0m\u001b[0mclick\u001b[0m\u001b[1;33m(\u001b[0m\u001b[1;33m)\u001b[0m\u001b[1;33m\u001b[0m\u001b[1;33m\u001b[0m\u001b[0m\n",
      "\u001b[1;32mC:\\Python38\\lib\\site-packages\\selenium\\webdriver\\support\\wait.py\u001b[0m in \u001b[0;36muntil\u001b[1;34m(self, method, message)\u001b[0m\n\u001b[0;32m     87\u001b[0m             \u001b[1;32mif\u001b[0m \u001b[0mtime\u001b[0m\u001b[1;33m.\u001b[0m\u001b[0mmonotonic\u001b[0m\u001b[1;33m(\u001b[0m\u001b[1;33m)\u001b[0m \u001b[1;33m>\u001b[0m \u001b[0mend_time\u001b[0m\u001b[1;33m:\u001b[0m\u001b[1;33m\u001b[0m\u001b[1;33m\u001b[0m\u001b[0m\n\u001b[0;32m     88\u001b[0m                 \u001b[1;32mbreak\u001b[0m\u001b[1;33m\u001b[0m\u001b[1;33m\u001b[0m\u001b[0m\n\u001b[1;32m---> 89\u001b[1;33m         \u001b[1;32mraise\u001b[0m \u001b[0mTimeoutException\u001b[0m\u001b[1;33m(\u001b[0m\u001b[0mmessage\u001b[0m\u001b[1;33m,\u001b[0m \u001b[0mscreen\u001b[0m\u001b[1;33m,\u001b[0m \u001b[0mstacktrace\u001b[0m\u001b[1;33m)\u001b[0m\u001b[1;33m\u001b[0m\u001b[1;33m\u001b[0m\u001b[0m\n\u001b[0m\u001b[0;32m     90\u001b[0m \u001b[1;33m\u001b[0m\u001b[0m\n\u001b[0;32m     91\u001b[0m     \u001b[1;32mdef\u001b[0m \u001b[0muntil_not\u001b[0m\u001b[1;33m(\u001b[0m\u001b[0mself\u001b[0m\u001b[1;33m,\u001b[0m \u001b[0mmethod\u001b[0m\u001b[1;33m,\u001b[0m \u001b[0mmessage\u001b[0m\u001b[1;33m=\u001b[0m\u001b[1;34m''\u001b[0m\u001b[1;33m)\u001b[0m\u001b[1;33m:\u001b[0m\u001b[1;33m\u001b[0m\u001b[1;33m\u001b[0m\u001b[0m\n",
      "\u001b[1;31mTimeoutException\u001b[0m: Message: \nStacktrace:\nBacktrace:\n\tOrdinal0 [0x0050B8F3+2406643]\n\tOrdinal0 [0x0049AF31+1945393]\n\tOrdinal0 [0x0038C748+837448]\n\tOrdinal0 [0x003B92E0+1020640]\n\tOrdinal0 [0x003B957B+1021307]\n\tOrdinal0 [0x003E6372+1205106]\n\tOrdinal0 [0x003D42C4+1131204]\n\tOrdinal0 [0x003E4682+1197698]\n\tOrdinal0 [0x003D4096+1130646]\n\tOrdinal0 [0x003AE636+976438]\n\tOrdinal0 [0x003AF546+980294]\n\tGetHandleVerifier [0x00779612+2498066]\n\tGetHandleVerifier [0x0076C920+2445600]\n\tGetHandleVerifier [0x005A4F2A+579370]\n\tGetHandleVerifier [0x005A3D36+574774]\n\tOrdinal0 [0x004A1C0B+1973259]\n\tOrdinal0 [0x004A6688+1992328]\n\tOrdinal0 [0x004A6775+1992565]\n\tOrdinal0 [0x004AF8D1+2029777]\n\tBaseThreadInitThunk [0x758A6739+25]\n\tRtlGetFullPathName_UEx [0x76FC8E7F+1215]\n\tRtlGetFullPathName_UEx [0x76FC8E4D+1165]\n"
     ]
    }
   ],
   "source": [
    "xpath = '//*[@id=\"react-root\"]/section/main/div/header/section/div[2]/div/div[2]/button'\n",
    "unfollow_btn = WebDriverWait(driver, 10).until(\n",
    "        EC.presence_of_element_located((By.XPATH, xpath)))\n",
    "unfollow_btn.click()"
   ]
  },
  {
   "cell_type": "code",
   "execution_count": null,
   "metadata": {},
   "outputs": [],
   "source": [
    "xpath = '/html/body/div[5]/div/div/div/div[3]/button[1]'\n",
    "unfollow_btn = WebDriverWait(driver, 10).until(\n",
    "        EC.presence_of_element_located((By.XPATH, xpath)))\n",
    "unfollow_btn.click()"
   ]
  },
  {
   "cell_type": "code",
   "execution_count": null,
   "metadata": {},
   "outputs": [],
   "source": [
    "'//*[@id=\"react-root\"]/section/main/div/div[3]/article/div[1]/div/div[1]/div[1]'\n",
    "'//*[@id=\"react-root\"]/section/main/div/div[3]/article/div[1]/div/div[1]/div[2]'\n",
    "'//*[@id=\"react-root\"]/section/main/div/div[3]/article/div[1]/div/div[1]/div[3]'\n",
    "\n",
    "'//*[@id=\"react-root\"]/section/main/div/div[3]/article/div[1]/div/div[2]/div[1]'\n",
    "'//*[@id=\"react-root\"]/section/main/div/div[3]/article/div[1]/div/div[2]/div[2]'\n",
    "'//*[@id=\"react-root\"]/section/main/div/div[3]/article/div[1]/div/div[2]/div[3]'"
   ]
  },
  {
   "cell_type": "code",
   "execution_count": 18,
   "metadata": {},
   "outputs": [
    {
     "name": "stderr",
     "output_type": "stream",
     "text": [
      "<ipython-input-18-0b49ea211269>:2: DeprecationWarning: find_element_by_xpath is deprecated. Please use find_element(by=By.XPATH, value=xpath) instead\n",
      "  e = driver.find_element_by_xpath(xpath.format(1,1))\n"
     ]
    }
   ],
   "source": [
    "xpath = '//*[@id=\"react-root\"]/section/main/div/div[2]/article/div[1]/div/div[{}]/div[{}]'\n",
    "e = driver.find_element_by_xpath(xpath.format(1,1))\n",
    "\n",
    "#//*[@id=\"react-root\"]/section/main/div/div[2]/article/div[1]/div/div[1]/div[1]"
   ]
  },
  {
   "cell_type": "code",
   "execution_count": 22,
   "metadata": {},
   "outputs": [
    {
     "name": "stderr",
     "output_type": "stream",
     "text": [
      "<ipython-input-22-b5230a9ca39f>:1: DeprecationWarning: find_element_by_tag_name is deprecated. Please use find_element(by=By.TAG_NAME, value=name) instead\n",
      "  e.find_element_by_tag_name('img').get_attribute('srcset').split(',')[-1]\n"
     ]
    },
    {
     "data": {
      "text/plain": [
       "'https://instagram.fevn1-1.fna.fbcdn.net/v/t51.2885-15/280374425_463297422260202_6341809724316492945_n.jpg?stp=c0.420.1080.1080a_dst-jpg_e35_s640x640_sh0.08&_nc_ht=instagram.fevn1-1.fna.fbcdn.net&_nc_cat=1&_nc_ohc=K7XBkZWratMAX-PQXkf&edm=ABfd0MgBAAAA&ccb=7-4&oh=00_AT9SB40_ZftYo5E4x9pZuCAAfo4RTvmviyKlaZ3rSvZv7w&oe=627ED583&_nc_sid=7bff83 640w'"
      ]
     },
     "execution_count": 22,
     "metadata": {},
     "output_type": "execute_result"
    }
   ],
   "source": [
    "e.find_element_by_tag_name('img').get_attribute('srcset').split(',')[-1]"
   ]
  },
  {
   "cell_type": "code",
   "execution_count": 23,
   "metadata": {},
   "outputs": [
    {
     "name": "stderr",
     "output_type": "stream",
     "text": [
      "<ipython-input-23-a2d7ea38bf1d>:2: DeprecationWarning: find_element_by_tag_name is deprecated. Please use find_element(by=By.TAG_NAME, value=name) instead\n",
      "  url = e.find_element_by_tag_name('img').get_attribute('srcset').split(',')[-1].split()[0]\n"
     ]
    }
   ],
   "source": [
    "import requests\n",
    "url = e.find_element_by_tag_name('img').get_attribute('srcset').split(',')[-1].split()[0]\n",
    "img = requests.get(url).content\n",
    "with open('img.jpg', 'wb') as f:\n",
    "    f.write(img)"
   ]
  },
  {
   "cell_type": "code",
   "execution_count": 24,
   "metadata": {},
   "outputs": [
    {
     "name": "stderr",
     "output_type": "stream",
     "text": [
      "<ipython-input-24-8e88a21501dc>:1: DeprecationWarning: find_element_by_tag_name is deprecated. Please use find_element(by=By.TAG_NAME, value=name) instead\n",
      "  e.find_element_by_tag_name('a').get_attribute('href')\n"
     ]
    },
    {
     "data": {
      "text/plain": [
       "'https://www.instagram.com/p/CdTqN39l_Av/'"
      ]
     },
     "execution_count": 24,
     "metadata": {},
     "output_type": "execute_result"
    }
   ],
   "source": [
    "e.find_element_by_tag_name('a').get_attribute('href')"
   ]
  },
  {
   "cell_type": "code",
   "execution_count": 25,
   "metadata": {},
   "outputs": [],
   "source": [
    "driver.get('https://www.instagram.com/p/CdTqN39l_Av/')"
   ]
  },
  {
   "cell_type": "code",
   "execution_count": 26,
   "metadata": {},
   "outputs": [
    {
     "name": "stderr",
     "output_type": "stream",
     "text": [
      "<ipython-input-26-978254fc26d7>:1: DeprecationWarning: find_element_by_xpath is deprecated. Please use find_element(by=By.XPATH, value=xpath) instead\n",
      "  cmnt_btn = driver.find_element_by_xpath('//*[@id=\"react-root\"]/section/main/div/div[1]/article/div/div[3]/div/div/section[1]/span[2]/button')\n"
     ]
    },
    {
     "ename": "NoSuchElementException",
     "evalue": "Message: no such element: Unable to locate element: {\"method\":\"xpath\",\"selector\":\"//*[@id=\"react-root\"]/section/main/div/div[1]/article/div/div[3]/div/div/section[1]/span[2]/button\"}\n  (Session info: chrome=101.0.4951.54)\nStacktrace:\nBacktrace:\n\tOrdinal0 [0x0050B8F3+2406643]\n\tOrdinal0 [0x0049AF31+1945393]\n\tOrdinal0 [0x0038C748+837448]\n\tOrdinal0 [0x003B92E0+1020640]\n\tOrdinal0 [0x003B957B+1021307]\n\tOrdinal0 [0x003E6372+1205106]\n\tOrdinal0 [0x003D42C4+1131204]\n\tOrdinal0 [0x003E4682+1197698]\n\tOrdinal0 [0x003D4096+1130646]\n\tOrdinal0 [0x003AE636+976438]\n\tOrdinal0 [0x003AF546+980294]\n\tGetHandleVerifier [0x00779612+2498066]\n\tGetHandleVerifier [0x0076C920+2445600]\n\tGetHandleVerifier [0x005A4F2A+579370]\n\tGetHandleVerifier [0x005A3D36+574774]\n\tOrdinal0 [0x004A1C0B+1973259]\n\tOrdinal0 [0x004A6688+1992328]\n\tOrdinal0 [0x004A6775+1992565]\n\tOrdinal0 [0x004AF8D1+2029777]\n\tBaseThreadInitThunk [0x758A6739+25]\n\tRtlGetFullPathName_UEx [0x76FC8E7F+1215]\n\tRtlGetFullPathName_UEx [0x76FC8E4D+1165]\n",
     "output_type": "error",
     "traceback": [
      "\u001b[1;31m---------------------------------------------------------------------------\u001b[0m",
      "\u001b[1;31mNoSuchElementException\u001b[0m                    Traceback (most recent call last)",
      "\u001b[1;32m<ipython-input-26-978254fc26d7>\u001b[0m in \u001b[0;36m<module>\u001b[1;34m\u001b[0m\n\u001b[1;32m----> 1\u001b[1;33m \u001b[0mcmnt_btn\u001b[0m \u001b[1;33m=\u001b[0m \u001b[0mdriver\u001b[0m\u001b[1;33m.\u001b[0m\u001b[0mfind_element_by_xpath\u001b[0m\u001b[1;33m(\u001b[0m\u001b[1;34m'//*[@id=\"react-root\"]/section/main/div/div[1]/article/div/div[3]/div/div/section[1]/span[2]/button'\u001b[0m\u001b[1;33m)\u001b[0m\u001b[1;33m\u001b[0m\u001b[1;33m\u001b[0m\u001b[0m\n\u001b[0m",
      "\u001b[1;32mC:\\Python38\\lib\\site-packages\\selenium\\webdriver\\remote\\webdriver.py\u001b[0m in \u001b[0;36mfind_element_by_xpath\u001b[1;34m(self, xpath)\u001b[0m\n\u001b[0;32m    524\u001b[0m             \u001b[0mstacklevel\u001b[0m\u001b[1;33m=\u001b[0m\u001b[1;36m2\u001b[0m\u001b[1;33m,\u001b[0m\u001b[1;33m\u001b[0m\u001b[1;33m\u001b[0m\u001b[0m\n\u001b[0;32m    525\u001b[0m         )\n\u001b[1;32m--> 526\u001b[1;33m         \u001b[1;32mreturn\u001b[0m \u001b[0mself\u001b[0m\u001b[1;33m.\u001b[0m\u001b[0mfind_element\u001b[0m\u001b[1;33m(\u001b[0m\u001b[0mby\u001b[0m\u001b[1;33m=\u001b[0m\u001b[0mBy\u001b[0m\u001b[1;33m.\u001b[0m\u001b[0mXPATH\u001b[0m\u001b[1;33m,\u001b[0m \u001b[0mvalue\u001b[0m\u001b[1;33m=\u001b[0m\u001b[0mxpath\u001b[0m\u001b[1;33m)\u001b[0m\u001b[1;33m\u001b[0m\u001b[1;33m\u001b[0m\u001b[0m\n\u001b[0m\u001b[0;32m    527\u001b[0m \u001b[1;33m\u001b[0m\u001b[0m\n\u001b[0;32m    528\u001b[0m     \u001b[1;32mdef\u001b[0m \u001b[0mfind_elements_by_xpath\u001b[0m\u001b[1;33m(\u001b[0m\u001b[0mself\u001b[0m\u001b[1;33m,\u001b[0m \u001b[0mxpath\u001b[0m\u001b[1;33m)\u001b[0m \u001b[1;33m->\u001b[0m \u001b[0mList\u001b[0m\u001b[1;33m[\u001b[0m\u001b[0mWebElement\u001b[0m\u001b[1;33m]\u001b[0m\u001b[1;33m:\u001b[0m\u001b[1;33m\u001b[0m\u001b[1;33m\u001b[0m\u001b[0m\n",
      "\u001b[1;32mC:\\Python38\\lib\\site-packages\\selenium\\webdriver\\remote\\webdriver.py\u001b[0m in \u001b[0;36mfind_element\u001b[1;34m(self, by, value)\u001b[0m\n\u001b[0;32m   1249\u001b[0m             \u001b[0mvalue\u001b[0m \u001b[1;33m=\u001b[0m \u001b[1;34m'[name=\"%s\"]'\u001b[0m \u001b[1;33m%\u001b[0m \u001b[0mvalue\u001b[0m\u001b[1;33m\u001b[0m\u001b[1;33m\u001b[0m\u001b[0m\n\u001b[0;32m   1250\u001b[0m \u001b[1;33m\u001b[0m\u001b[0m\n\u001b[1;32m-> 1251\u001b[1;33m         return self.execute(Command.FIND_ELEMENT, {\n\u001b[0m\u001b[0;32m   1252\u001b[0m             \u001b[1;34m'using'\u001b[0m\u001b[1;33m:\u001b[0m \u001b[0mby\u001b[0m\u001b[1;33m,\u001b[0m\u001b[1;33m\u001b[0m\u001b[1;33m\u001b[0m\u001b[0m\n\u001b[0;32m   1253\u001b[0m             'value': value})['value']\n",
      "\u001b[1;32mC:\\Python38\\lib\\site-packages\\selenium\\webdriver\\remote\\webdriver.py\u001b[0m in \u001b[0;36mexecute\u001b[1;34m(self, driver_command, params)\u001b[0m\n\u001b[0;32m    428\u001b[0m         \u001b[0mresponse\u001b[0m \u001b[1;33m=\u001b[0m \u001b[0mself\u001b[0m\u001b[1;33m.\u001b[0m\u001b[0mcommand_executor\u001b[0m\u001b[1;33m.\u001b[0m\u001b[0mexecute\u001b[0m\u001b[1;33m(\u001b[0m\u001b[0mdriver_command\u001b[0m\u001b[1;33m,\u001b[0m \u001b[0mparams\u001b[0m\u001b[1;33m)\u001b[0m\u001b[1;33m\u001b[0m\u001b[1;33m\u001b[0m\u001b[0m\n\u001b[0;32m    429\u001b[0m         \u001b[1;32mif\u001b[0m \u001b[0mresponse\u001b[0m\u001b[1;33m:\u001b[0m\u001b[1;33m\u001b[0m\u001b[1;33m\u001b[0m\u001b[0m\n\u001b[1;32m--> 430\u001b[1;33m             \u001b[0mself\u001b[0m\u001b[1;33m.\u001b[0m\u001b[0merror_handler\u001b[0m\u001b[1;33m.\u001b[0m\u001b[0mcheck_response\u001b[0m\u001b[1;33m(\u001b[0m\u001b[0mresponse\u001b[0m\u001b[1;33m)\u001b[0m\u001b[1;33m\u001b[0m\u001b[1;33m\u001b[0m\u001b[0m\n\u001b[0m\u001b[0;32m    431\u001b[0m             response['value'] = self._unwrap_value(\n\u001b[0;32m    432\u001b[0m                 response.get('value', None))\n",
      "\u001b[1;32mC:\\Python38\\lib\\site-packages\\selenium\\webdriver\\remote\\errorhandler.py\u001b[0m in \u001b[0;36mcheck_response\u001b[1;34m(self, response)\u001b[0m\n\u001b[0;32m    245\u001b[0m                 \u001b[0malert_text\u001b[0m \u001b[1;33m=\u001b[0m \u001b[0mvalue\u001b[0m\u001b[1;33m[\u001b[0m\u001b[1;34m'alert'\u001b[0m\u001b[1;33m]\u001b[0m\u001b[1;33m.\u001b[0m\u001b[0mget\u001b[0m\u001b[1;33m(\u001b[0m\u001b[1;34m'text'\u001b[0m\u001b[1;33m)\u001b[0m\u001b[1;33m\u001b[0m\u001b[1;33m\u001b[0m\u001b[0m\n\u001b[0;32m    246\u001b[0m             \u001b[1;32mraise\u001b[0m \u001b[0mexception_class\u001b[0m\u001b[1;33m(\u001b[0m\u001b[0mmessage\u001b[0m\u001b[1;33m,\u001b[0m \u001b[0mscreen\u001b[0m\u001b[1;33m,\u001b[0m \u001b[0mstacktrace\u001b[0m\u001b[1;33m,\u001b[0m \u001b[0malert_text\u001b[0m\u001b[1;33m)\u001b[0m  \u001b[1;31m# type: ignore[call-arg]  # mypy is not smart enough here\u001b[0m\u001b[1;33m\u001b[0m\u001b[1;33m\u001b[0m\u001b[0m\n\u001b[1;32m--> 247\u001b[1;33m         \u001b[1;32mraise\u001b[0m \u001b[0mexception_class\u001b[0m\u001b[1;33m(\u001b[0m\u001b[0mmessage\u001b[0m\u001b[1;33m,\u001b[0m \u001b[0mscreen\u001b[0m\u001b[1;33m,\u001b[0m \u001b[0mstacktrace\u001b[0m\u001b[1;33m)\u001b[0m\u001b[1;33m\u001b[0m\u001b[1;33m\u001b[0m\u001b[0m\n\u001b[0m\u001b[0;32m    248\u001b[0m \u001b[1;33m\u001b[0m\u001b[0m\n\u001b[0;32m    249\u001b[0m     \u001b[1;32mdef\u001b[0m \u001b[0m_value_or_default\u001b[0m\u001b[1;33m(\u001b[0m\u001b[0mself\u001b[0m\u001b[1;33m,\u001b[0m \u001b[0mobj\u001b[0m\u001b[1;33m:\u001b[0m \u001b[0mMapping\u001b[0m\u001b[1;33m[\u001b[0m\u001b[0m_KT\u001b[0m\u001b[1;33m,\u001b[0m \u001b[0m_VT\u001b[0m\u001b[1;33m]\u001b[0m\u001b[1;33m,\u001b[0m \u001b[0mkey\u001b[0m\u001b[1;33m:\u001b[0m \u001b[0m_KT\u001b[0m\u001b[1;33m,\u001b[0m \u001b[0mdefault\u001b[0m\u001b[1;33m:\u001b[0m \u001b[0m_VT\u001b[0m\u001b[1;33m)\u001b[0m \u001b[1;33m->\u001b[0m \u001b[0m_VT\u001b[0m\u001b[1;33m:\u001b[0m\u001b[1;33m\u001b[0m\u001b[1;33m\u001b[0m\u001b[0m\n",
      "\u001b[1;31mNoSuchElementException\u001b[0m: Message: no such element: Unable to locate element: {\"method\":\"xpath\",\"selector\":\"//*[@id=\"react-root\"]/section/main/div/div[1]/article/div/div[3]/div/div/section[1]/span[2]/button\"}\n  (Session info: chrome=101.0.4951.54)\nStacktrace:\nBacktrace:\n\tOrdinal0 [0x0050B8F3+2406643]\n\tOrdinal0 [0x0049AF31+1945393]\n\tOrdinal0 [0x0038C748+837448]\n\tOrdinal0 [0x003B92E0+1020640]\n\tOrdinal0 [0x003B957B+1021307]\n\tOrdinal0 [0x003E6372+1205106]\n\tOrdinal0 [0x003D42C4+1131204]\n\tOrdinal0 [0x003E4682+1197698]\n\tOrdinal0 [0x003D4096+1130646]\n\tOrdinal0 [0x003AE636+976438]\n\tOrdinal0 [0x003AF546+980294]\n\tGetHandleVerifier [0x00779612+2498066]\n\tGetHandleVerifier [0x0076C920+2445600]\n\tGetHandleVerifier [0x005A4F2A+579370]\n\tGetHandleVerifier [0x005A3D36+574774]\n\tOrdinal0 [0x004A1C0B+1973259]\n\tOrdinal0 [0x004A6688+1992328]\n\tOrdinal0 [0x004A6775+1992565]\n\tOrdinal0 [0x004AF8D1+2029777]\n\tBaseThreadInitThunk [0x758A6739+25]\n\tRtlGetFullPathName_UEx [0x76FC8E7F+1215]\n\tRtlGetFullPathName_UEx [0x76FC8E4D+1165]\n"
     ]
    }
   ],
   "source": [
    "cmnt_btn = driver.find_element_by_xpath('//*[@id=\"react-root\"]/section/main/div/div[1]/article/div/div[3]/div/div/section[1]/span[2]/button')"
   ]
  },
  {
   "cell_type": "code",
   "execution_count": null,
   "metadata": {},
   "outputs": [],
   "source": []
  },
  {
   "cell_type": "markdown",
   "metadata": {},
   "source": [
    "cmnt_btn.click()"
   ]
  },
  {
   "cell_type": "code",
   "execution_count": 27,
   "metadata": {},
   "outputs": [],
   "source": [
    "# import libraries\n",
    "from selenium.webdriver.common.by import By\n",
    "from selenium.webdriver.support.ui import WebDriverWait\n",
    "from selenium.webdriver.support import expected_conditions as EC"
   ]
  },
  {
   "cell_type": "code",
   "execution_count": 28,
   "metadata": {},
   "outputs": [],
   "source": [
    "from selenium import webdriver\n",
    "driver = webdriver.Chrome()\n",
    "\n",
    "# Navigate to url\n",
    "driver.get(\"http://www.google.com\")\n",
    "\n",
    "# Store 'google search' button web element\n",
    "gmailLink = driver.find_element(By.LINK_TEXT, \"Gmail\")\n",
    "\n",
    "# Performs mouse move action onto the element\n",
    "webdriver.ActionChains(driver).move_to_element(gmailLink).perform()"
   ]
  },
  {
   "cell_type": "markdown",
   "metadata": {},
   "source": [
    "[more actions](https://www.geeksforgeeks.org/action-chains-in-selenium-python/)"
   ]
  },
  {
   "cell_type": "code",
   "execution_count": 29,
   "metadata": {},
   "outputs": [],
   "source": [
    "url = 'https://maktabkhooneh.org/learn/'\n",
    "\n",
    "driver = webdriver.Chrome()\n",
    "\n",
    "# Navigate to url\n",
    "driver.get(url)\n",
    "\n"
   ]
  },
  {
   "cell_type": "code",
   "execution_count": 30,
   "metadata": {},
   "outputs": [],
   "source": [
    "# Store 'google search' button web element\n",
    "course_title = driver.find_element(By.CLASS_NAME, \"course-card__title\")\n",
    "\n",
    "# Performs mouse move action onto the element\n",
    "webdriver.ActionChains(driver).move_to_element(course_title).perform()"
   ]
  },
  {
   "cell_type": "code",
   "execution_count": 31,
   "metadata": {},
   "outputs": [
    {
     "data": {
      "text/plain": [
       "'معرفی دانشکده\\u200cها و رشته\\u200cهای کارشناسی ارشد حوزه ارتباطات و رسانه'"
      ]
     },
     "execution_count": 31,
     "metadata": {},
     "output_type": "execute_result"
    }
   ],
   "source": [
    "course_title.text"
   ]
  },
  {
   "cell_type": "code",
   "execution_count": null,
   "metadata": {},
   "outputs": [],
   "source": [
    "html = driver.page_source"
   ]
  },
  {
   "cell_type": "code",
   "execution_count": null,
   "metadata": {},
   "outputs": [],
   "source": [
    "from bs4 import BeautifulSoup\n",
    "soup = BeautifulSoup(html, 'html.parser')"
   ]
  },
  {
   "cell_type": "code",
   "execution_count": null,
   "metadata": {},
   "outputs": [],
   "source": [
    "soup.find('div', class_ = 'course-card-extra__header').text.strip()"
   ]
  },
  {
   "cell_type": "code",
   "execution_count": null,
   "metadata": {},
   "outputs": [],
   "source": []
  },
  {
   "cell_type": "code",
   "execution_count": null,
   "metadata": {},
   "outputs": [],
   "source": []
  },
  {
   "cell_type": "code",
   "execution_count": null,
   "metadata": {},
   "outputs": [],
   "source": []
  },
  {
   "cell_type": "code",
   "execution_count": null,
   "metadata": {},
   "outputs": [],
   "source": [
    "brand = driver.find_element_by_xpath('//*[@id=\"pageMain\"]/div/div/aside/div/div[1]/ul/li[2]')"
   ]
  },
  {
   "cell_type": "code",
   "execution_count": null,
   "metadata": {},
   "outputs": [],
   "source": [
    "brand.click()"
   ]
  },
  {
   "cell_type": "code",
   "execution_count": null,
   "metadata": {},
   "outputs": [],
   "source": [
    "driver.find_element_by_partial_link_text('برلیانس').click()"
   ]
  },
  {
   "cell_type": "code",
   "execution_count": null,
   "metadata": {},
   "outputs": [],
   "source": [
    "x = driver.find_elements_by_class_name('model-list')"
   ]
  },
  {
   "cell_type": "code",
   "execution_count": null,
   "metadata": {},
   "outputs": [],
   "source": [
    "options = webdriver.ChromeOptions()\n",
    "options.add_argument(\"start-maximized\")\n",
    "options.add_argument('--disable-blink-features=AutomationControlled')\n",
    "options.add_experimental_option(\"excludeSwitches\", [\"enable-automation\"])\n",
    "options.add_experimental_option('useAutomationExtension', False)\n",
    "driver = webdriver.Chrome(options=options, executable_path='chromedriver.exe')\n",
    "driver.execute_script(\"Object.defineProperty(navigator, 'webdriver', {get: () => undefined})\")\n",
    "driver.execute_cdp_cmd('Network.setUserAgentOverride', {\"userAgent\": 'Mozilla/5.0 (Windows NT 10.0; Win64; x64) '\n",
    "                                                                     'AppleWebKit/537.36 (KHTML, like Gecko) '\n",
    "                                                                     'Chrome/85.0.4183.102 Safari/537.36'})"
   ]
  },
  {
   "cell_type": "code",
   "execution_count": null,
   "metadata": {},
   "outputs": [],
   "source": [
    "\n",
    "driver.get('https://www.bama.ir')"
   ]
  },
  {
   "cell_type": "code",
   "execution_count": null,
   "metadata": {},
   "outputs": [],
   "source": [
    "driver.find_element_by_class_name('searchbox-input').send_keys('ساندرو')"
   ]
  },
  {
   "cell_type": "code",
   "execution_count": null,
   "metadata": {},
   "outputs": [],
   "source": [
    "driver.find_element_by_class_name('searchbox-input').send_keys(Keys.ENTER)"
   ]
  },
  {
   "cell_type": "code",
   "execution_count": null,
   "metadata": {},
   "outputs": [],
   "source": [
    "driver.find_element_by_xpath('//*[@id=\"suggestionads\"]/li[1]/a').click()"
   ]
  },
  {
   "cell_type": "code",
   "execution_count": null,
   "metadata": {},
   "outputs": [],
   "source": [
    "# self scrolling\n",
    "previous_height = driver.execute_script('return document.body.scrollHeight') \n",
    "count = 0\n",
    "while True:\n",
    "    driver.execute_script('window.scrollTo(0, document.body.scrollHeight)')\n",
    "    current_height = driver.execute_script('return document.body.scrollHeight') \n",
    "    time.sleep(2)\n",
    "    if previous_height == current_height:\n",
    "        count += 1\n",
    "        if count == 3:\n",
    "            break\n",
    "    else:\n",
    "        count = 0\n",
    "    previous_height = current_height"
   ]
  },
  {
   "cell_type": "code",
   "execution_count": null,
   "metadata": {},
   "outputs": [],
   "source": []
  }
 ],
 "metadata": {
  "kernelspec": {
   "display_name": "Python 3",
   "language": "python",
   "name": "python3"
  },
  "language_info": {
   "codemirror_mode": {
    "name": "ipython",
    "version": 3
   },
   "file_extension": ".py",
   "mimetype": "text/x-python",
   "name": "python",
   "nbconvert_exporter": "python",
   "pygments_lexer": "ipython3",
   "version": "3.8.5"
  }
 },
 "nbformat": 4,
 "nbformat_minor": 4
}
