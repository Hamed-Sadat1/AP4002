{
 "cells": [
  {
   "cell_type": "code",
   "execution_count": 1,
   "metadata": {},
   "outputs": [
    {
     "name": "stdout",
     "output_type": "stream",
     "text": [
      "a, b : int\n",
      "a = 10 , b = 11\n",
      "a == b is False\n"
     ]
    }
   ],
   "source": [
    "print('a, b : int')\n",
    "\n",
    "a = 10\n",
    "b = a\n",
    "\n",
    "b += 1\n",
    "\n",
    "print(f'a = {a} , b = {b}')\n",
    "print(f'a == b is {a == b}')\n"
   ]
  },
  {
   "cell_type": "code",
   "execution_count": 2,
   "metadata": {},
   "outputs": [
    {
     "name": "stdout",
     "output_type": "stream",
     "text": [
      "a, b : list\n",
      "a = [1, 2, 3, 4] , b = [1, 2, 3, 4]\n",
      "a == b is True\n"
     ]
    }
   ],
   "source": [
    "print('a, b : list')\n",
    "\n",
    "a = [1, 2, 3]\n",
    "b = a\n",
    "\n",
    "b += [4]\n",
    "\n",
    "print(f'a = {a} , b = {b}')\n",
    "print(f'a == b is {a == b}')"
   ]
  },
  {
   "cell_type": "code",
   "execution_count": 3,
   "metadata": {},
   "outputs": [
    {
     "name": "stdout",
     "output_type": "stream",
     "text": [
      "a, b : list\n",
      "a = [1, 2, 3] , b = [1, 2, 3, 4]\n",
      "a == b is False\n"
     ]
    }
   ],
   "source": [
    "print('a, b : list')\n",
    "\n",
    "a = [1, 2, 3]\n",
    "b = a\n",
    "\n",
    "b = b + [4]\n",
    "\n",
    "print(f'a = {a} , b = {b}')\n",
    "print(f'a == b is {a == b}')"
   ]
  },
  {
   "cell_type": "code",
   "execution_count": 4,
   "metadata": {},
   "outputs": [
    {
     "name": "stdout",
     "output_type": "stream",
     "text": [
      "a = [1, 2, 3, 4] , b = [1, 2, 3, 4]\n",
      "a == b is True\n"
     ]
    }
   ],
   "source": [
    "a = [1, 2, 3]\n",
    "b = a\n",
    "\n",
    "b.append(4)\n",
    "\n",
    "print(f'a = {a} , b = {b}')\n",
    "print(f'a == b is {a == b}')"
   ]
  },
  {
   "cell_type": "code",
   "execution_count": 5,
   "metadata": {},
   "outputs": [
    {
     "name": "stdout",
     "output_type": "stream",
     "text": [
      "a, b : str\n",
      "a = Hello , b = HelloWorld\n",
      "a == b is False\n"
     ]
    }
   ],
   "source": [
    "print('a, b : str')\n",
    "\n",
    "a = \"Hello\"\n",
    "b = a\n",
    "\n",
    "b += \"World\"\n",
    "\n",
    "print(f'a = {a} , b = {b}')\n",
    "print(f'a == b is {a == b}')"
   ]
  },
  {
   "cell_type": "code",
   "execution_count": 6,
   "metadata": {},
   "outputs": [
    {
     "name": "stdout",
     "output_type": "stream",
     "text": [
      "a, b : tuple\n",
      "a = (1, 2, 3) , b = (1, 2, 3, 4)\n",
      "a == b is False\n"
     ]
    }
   ],
   "source": [
    "print('a, b : tuple')\n",
    "\n",
    "a = (1, 2, 3)\n",
    "b = a\n",
    "\n",
    "b += (4,)\n",
    "\n",
    "print(f'a = {a} , b = {b}')\n",
    "print(f'a == b is {a == b}')"
   ]
  },
  {
   "cell_type": "code",
   "execution_count": 7,
   "metadata": {},
   "outputs": [
    {
     "name": "stdout",
     "output_type": "stream",
     "text": [
      "a, b : dict\n",
      "a = {'1': 1, '2': 2, '3': 3} , b = {'1': 1, '2': 2, '3': 3}\n",
      "a == b is True\n"
     ]
    }
   ],
   "source": [
    "print('a, b : dict')\n",
    "\n",
    "a = {'1' : 1, '2' : 2}\n",
    "b = a\n",
    "\n",
    "b['3'] = 3\n",
    "\n",
    "print(f'a = {a} , b = {b}')\n",
    "print(f'a == b is {a == b}')"
   ]
  },
  {
   "cell_type": "code",
   "execution_count": 8,
   "metadata": {},
   "outputs": [
    {
     "name": "stdout",
     "output_type": "stream",
     "text": [
      "a, b : set\n",
      "a = {1, 2, 3, 4} , b = {1, 2, 3, 4}\n",
      "a == b is True\n"
     ]
    }
   ],
   "source": [
    "print('a, b : set')\n",
    "\n",
    "a = {1, 2, 3}\n",
    "b = a\n",
    "\n",
    "a.add(4)\n",
    "\n",
    "print(f'a = {a} , b = {b}')\n",
    "print(f'a == b is {a == b}')"
   ]
  },
  {
   "cell_type": "code",
   "execution_count": null,
   "metadata": {},
   "outputs": [],
   "source": [
    "# Let's see another issue"
   ]
  },
  {
   "cell_type": "code",
   "execution_count": 9,
   "metadata": {},
   "outputs": [
    {
     "name": "stdout",
     "output_type": "stream",
     "text": [
      "a = [1, 0, 0, 0, 0]\n"
     ]
    }
   ],
   "source": [
    "a = [0] * 5\n",
    "a[0] = 1\n",
    "\n",
    "print(f'a = {a}')"
   ]
  },
  {
   "cell_type": "code",
   "execution_count": 10,
   "metadata": {},
   "outputs": [
    {
     "name": "stdout",
     "output_type": "stream",
     "text": [
      "b = [[1, 0, 0, 0, 0], [1, 0, 0, 0, 0], [1, 0, 0, 0, 0], [1, 0, 0, 0, 0], [1, 0, 0, 0, 0]]\n"
     ]
    }
   ],
   "source": [
    "b = [a] * 5\n",
    "print(f'b = {b}')"
   ]
  },
  {
   "cell_type": "code",
   "execution_count": 11,
   "metadata": {},
   "outputs": [
    {
     "name": "stdout",
     "output_type": "stream",
     "text": [
      "[[1, 0, 2, 0, 0], [1, 0, 2, 0, 0], [1, 0, 2, 0, 0], [1, 0, 2, 0, 0], [1, 0, 2, 0, 0]]\n"
     ]
    }
   ],
   "source": [
    "b[0][2] = 2\n",
    "print(b)"
   ]
  },
  {
   "cell_type": "code",
   "execution_count": 17,
   "metadata": {},
   "outputs": [
    {
     "name": "stdout",
     "output_type": "stream",
     "text": [
      "a = [0, 0, 0, 0, 0]\n"
     ]
    }
   ],
   "source": [
    "a = [0 for i in range(5)]\n",
    "\n",
    "print(f'a = {a}')"
   ]
  },
  {
   "cell_type": "code",
   "execution_count": 13,
   "metadata": {},
   "outputs": [
    {
     "name": "stdout",
     "output_type": "stream",
     "text": [
      "b = [[0, 0, 0, 0, 0], [0, 0, 0, 0, 0], [0, 0, 0, 0, 0], [0, 0, 0, 0, 0], [0, 0, 0, 0, 0]]\n"
     ]
    }
   ],
   "source": [
    "b = [a for i in range(5)]\n",
    "print(f'b = {b}')"
   ]
  },
  {
   "cell_type": "code",
   "execution_count": 22,
   "metadata": {},
   "outputs": [
    {
     "name": "stdout",
     "output_type": "stream",
     "text": [
      "b = [[0, 0, 0, 0, 0], [0, 0, 0, 0, 0], [0, 0, 0, 0, 0], [0, 0, 0, 0, 0], [0, 0, 0, 0, 0]]\n",
      "[[0, 0, 2, 0, 0], [0, 0, 0, 0, 0], [0, 0, 0, 0, 0], [0, 0, 0, 0, 0], [0, 0, 0, 0, 0]]\n"
     ]
    }
   ],
   "source": [
    "b = [copy.deepcopy(a) for i in range(5)]\n",
    "print(f'b = {b}')\n",
    "b[0][2] = 2\n",
    "print(b)"
   ]
  },
  {
   "cell_type": "code",
   "execution_count": 23,
   "metadata": {},
   "outputs": [
    {
     "name": "stdout",
     "output_type": "stream",
     "text": [
      "[[[3, 0, 2, 0, 0], [0, 0, 0, 0, 0], [0, 0, 0, 0, 0], [0, 0, 0, 0, 0], [0, 0, 0, 0, 0]], [[0, 0, 2, 0, 0], [0, 0, 0, 0, 0], [0, 0, 0, 0, 0], [0, 0, 0, 0, 0], [0, 0, 0, 0, 0]], [[0, 0, 2, 0, 0], [0, 0, 0, 0, 0], [0, 0, 0, 0, 0], [0, 0, 0, 0, 0], [0, 0, 0, 0, 0]], [[0, 0, 2, 0, 0], [0, 0, 0, 0, 0], [0, 0, 0, 0, 0], [0, 0, 0, 0, 0], [0, 0, 0, 0, 0]], [[0, 0, 2, 0, 0], [0, 0, 0, 0, 0], [0, 0, 0, 0, 0], [0, 0, 0, 0, 0], [0, 0, 0, 0, 0]]]\n"
     ]
    }
   ],
   "source": [
    "import copy\n",
    "c = [copy.deepcopy(b) for i in range(5)]\n",
    "c[0][0][0] = 3\n",
    "print(c)"
   ]
  },
  {
   "cell_type": "code",
   "execution_count": 14,
   "metadata": {},
   "outputs": [
    {
     "name": "stdout",
     "output_type": "stream",
     "text": [
      "[[0, 0, 2, 0, 0], [0, 0, 2, 0, 0], [0, 0, 2, 0, 0], [0, 0, 2, 0, 0], [0, 0, 2, 0, 0]]\n"
     ]
    }
   ],
   "source": [
    "b[0][2] = 2\n",
    "print(b)"
   ]
  },
  {
   "cell_type": "code",
   "execution_count": 15,
   "metadata": {},
   "outputs": [
    {
     "name": "stdout",
     "output_type": "stream",
     "text": [
      "b = [[0, 0, 0, 0, 0], [0, 0, 0, 0, 0], [0, 0, 0, 0, 0], [0, 0, 0, 0, 0], [0, 0, 0, 0, 0]]\n"
     ]
    }
   ],
   "source": [
    "b = [[0 for i in range(5)] for i in range(5)]\n",
    "print(f'b = {b}')"
   ]
  },
  {
   "cell_type": "code",
   "execution_count": 16,
   "metadata": {},
   "outputs": [
    {
     "name": "stdout",
     "output_type": "stream",
     "text": [
      "[[0, 0, 2, 0, 0], [0, 0, 0, 0, 0], [0, 0, 0, 0, 0], [0, 0, 0, 0, 0], [0, 0, 0, 0, 0]]\n"
     ]
    }
   ],
   "source": [
    "b[0][2] = 2\n",
    "print(b)"
   ]
  },
  {
   "cell_type": "code",
   "execution_count": 20,
   "metadata": {},
   "outputs": [
    {
     "name": "stdout",
     "output_type": "stream",
     "text": [
      "[[[3, 0, 0, 0, 0], [0, 0, 0, 0, 0], [0, 0, 0, 0, 0], [0, 0, 0, 0, 0], [0, 0, 0, 0, 0]], [[0, 0, 0, 0, 0], [0, 0, 0, 0, 0], [0, 0, 0, 0, 0], [0, 0, 0, 0, 0], [0, 0, 0, 0, 0]], [[0, 0, 0, 0, 0], [0, 0, 0, 0, 0], [0, 0, 0, 0, 0], [0, 0, 0, 0, 0], [0, 0, 0, 0, 0]], [[0, 0, 0, 0, 0], [0, 0, 0, 0, 0], [0, 0, 0, 0, 0], [0, 0, 0, 0, 0], [0, 0, 0, 0, 0]], [[0, 0, 0, 0, 0], [0, 0, 0, 0, 0], [0, 0, 0, 0, 0], [0, 0, 0, 0, 0], [0, 0, 0, 0, 0]]]\n"
     ]
    }
   ],
   "source": [
    "c = [[[0 for i in range(5)] for i in range(5)] for i in range(5)]\n",
    "c[0][0][0] = 3\n",
    "print(c)"
   ]
  },
  {
   "cell_type": "code",
   "execution_count": null,
   "metadata": {},
   "outputs": [],
   "source": [
    "# What is the reason?"
   ]
  },
  {
   "cell_type": "code",
   "execution_count": 25,
   "metadata": {},
   "outputs": [
    {
     "name": "stdout",
     "output_type": "stream",
     "text": [
      "a = {0: 0, 1: 0, 2: 0, 3: 0} , b = {0: 0, 1: 0, 2: 0, 3: 0}\n",
      "a == b is True\n"
     ]
    }
   ],
   "source": [
    "a = {0: 0, 1: 0, 2: 0}\n",
    "b = a\n",
    "\n",
    "b[3] = 0\n",
    "\n",
    "print(f'a = {a} , b = {b}')\n",
    "print(f'a == b is {a == b}')"
   ]
  },
  {
   "cell_type": "code",
   "execution_count": 27,
   "metadata": {},
   "outputs": [
    {
     "name": "stdout",
     "output_type": "stream",
     "text": [
      "[{0: 1, 1: 0, 2: 0, 3: 0}, {0: 1, 1: 0, 2: 0, 3: 0}, {0: 1, 1: 0, 2: 0, 3: 0}, {0: 1, 1: 0, 2: 0, 3: 0}, {0: 1, 1: 0, 2: 0, 3: 0}]\n"
     ]
    }
   ],
   "source": [
    "b = [a for i in range(5)]\n",
    "b[0][0] = 1\n",
    "\n",
    "print(b)"
   ]
  },
  {
   "cell_type": "code",
   "execution_count": null,
   "metadata": {},
   "outputs": [],
   "source": []
  }
 ],
 "metadata": {
  "kernelspec": {
   "display_name": "Python 3",
   "language": "python",
   "name": "python3"
  },
  "language_info": {
   "codemirror_mode": {
    "name": "ipython",
    "version": 3
   },
   "file_extension": ".py",
   "mimetype": "text/x-python",
   "name": "python",
   "nbconvert_exporter": "python",
   "pygments_lexer": "ipython3",
   "version": "3.8.5"
  }
 },
 "nbformat": 4,
 "nbformat_minor": 4
}
